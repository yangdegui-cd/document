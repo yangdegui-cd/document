{
 "cells": [
  {
   "cell_type": "code",
   "execution_count": 1,
   "id": "7703bbae",
   "metadata": {},
   "outputs": [],
   "source": [
    "import pydbapi\n",
    "from pydbapi.api import TrinoDB\n",
    "\n",
    "import os\n",
    "import pandas as pd\n",
    "from datetime import datetime, timedelta"
   ]
  },
  {
   "cell_type": "code",
   "execution_count": 2,
   "id": "cf6d07f7",
   "metadata": {},
   "outputs": [],
   "source": [
    "host = 'trino.sincetimes.com'\n",
    "user = 'dingyanlin'\n",
    "password = '569pJr*caDbQpoiy'\n",
    "database = 'dow_jpnew_w'\n",
    "catalog = 'hive'\n",
    "port = 8443"
   ]
  },
  {
   "cell_type": "code",
   "execution_count": 3,
   "id": "f71c1b4b",
   "metadata": {},
   "outputs": [],
   "source": [
    "db = TrinoDB(host, user, password, database, catalog, port=8443, safe_rule=True)"
   ]
  },
  {
   "cell_type": "code",
   "execution_count": 4,
   "id": "956526f1",
   "metadata": {},
   "outputs": [
    {
     "data": {
      "text/plain": [
       "{'sql01_act_turn': 'D:\\\\我的坚果云\\\\work\\\\Sincetimes_DOW\\\\9999-99-99 DOW 周报 3.0\\\\sqls\\\\sql01_act_turn.sql',\n",
       " 'sql01_base': 'D:\\\\我的坚果云\\\\work\\\\Sincetimes_DOW\\\\9999-99-99 DOW 周报 3.0\\\\sqls\\\\sql01_base.sql',\n",
       " 'sql02_act_turn': 'D:\\\\我的坚果云\\\\work\\\\Sincetimes_DOW\\\\9999-99-99 DOW 周报 3.0\\\\sqls\\\\sql02_act_turn.sql',\n",
       " 'sql02_base': 'D:\\\\我的坚果云\\\\work\\\\Sincetimes_DOW\\\\9999-99-99 DOW 周报 3.0\\\\sqls\\\\sql02_base.sql',\n",
       " 'sql03_act_turn': 'D:\\\\我的坚果云\\\\work\\\\Sincetimes_DOW\\\\9999-99-99 DOW 周报 3.0\\\\sqls\\\\sql03_act_turn.sql',\n",
       " 'sql03_base': 'D:\\\\我的坚果云\\\\work\\\\Sincetimes_DOW\\\\9999-99-99 DOW 周报 3.0\\\\sqls\\\\sql03_base.sql',\n",
       " 'sql04_act_cp': 'D:\\\\我的坚果云\\\\work\\\\Sincetimes_DOW\\\\9999-99-99 DOW 周报 3.0\\\\sqls\\\\sql04_act_cp.sql',\n",
       " 'sql04_base': 'D:\\\\我的坚果云\\\\work\\\\Sincetimes_DOW\\\\9999-99-99 DOW 周报 3.0\\\\sqls\\\\sql04_base.sql',\n",
       " 'sql05_act_cp': 'D:\\\\我的坚果云\\\\work\\\\Sincetimes_DOW\\\\9999-99-99 DOW 周报 3.0\\\\sqls\\\\sql05_act_cp.sql',\n",
       " 'sql05_base': 'D:\\\\我的坚果云\\\\work\\\\Sincetimes_DOW\\\\9999-99-99 DOW 周报 3.0\\\\sqls\\\\sql05_base.sql',\n",
       " 'sql06_act_cp': 'D:\\\\我的坚果云\\\\work\\\\Sincetimes_DOW\\\\9999-99-99 DOW 周报 3.0\\\\sqls\\\\sql06_act_cp.sql',\n",
       " 'sql07_act_monster': 'D:\\\\我的坚果云\\\\work\\\\Sincetimes_DOW\\\\9999-99-99 DOW 周报 3.0\\\\sqls\\\\sql07_act_monster.sql',\n",
       " 'sql08_act_monster': 'D:\\\\我的坚果云\\\\work\\\\Sincetimes_DOW\\\\9999-99-99 DOW 周报 3.0\\\\sqls\\\\sql08_act_monster.sql',\n",
       " 'sql09_act_monster': 'D:\\\\我的坚果云\\\\work\\\\Sincetimes_DOW\\\\9999-99-99 DOW 周报 3.0\\\\sqls\\\\sql09_act_monster.sql',\n",
       " 'sql10_act_shopping': 'D:\\\\我的坚果云\\\\work\\\\Sincetimes_DOW\\\\9999-99-99 DOW 周报 3.0\\\\sqls\\\\sql10_act_shopping.sql',\n",
       " 'sql11_act_shopping': 'D:\\\\我的坚果云\\\\work\\\\Sincetimes_DOW\\\\9999-99-99 DOW 周报 3.0\\\\sqls\\\\sql11_act_shopping.sql',\n",
       " 'sql12_act_turnpro': 'D:\\\\我的坚果云\\\\work\\\\Sincetimes_DOW\\\\9999-99-99 DOW 周报 3.0\\\\sqls\\\\sql12_act_turnpro.sql',\n",
       " 'sql13_act_turnpro': 'D:\\\\我的坚果云\\\\work\\\\Sincetimes_DOW\\\\9999-99-99 DOW 周报 3.0\\\\sqls\\\\sql13_act_turnpro.sql',\n",
       " 'sql14_act_turnpro': 'D:\\\\我的坚果云\\\\work\\\\Sincetimes_DOW\\\\9999-99-99 DOW 周报 3.0\\\\sqls\\\\sql14_act_turnpro.sql',\n",
       " 'sql15_act_pearlpaid': 'D:\\\\我的坚果云\\\\work\\\\Sincetimes_DOW\\\\9999-99-99 DOW 周报 3.0\\\\sqls\\\\sql15_act_pearlpaid.sql',\n",
       " 'sql16_act_pearlpaid': 'D:\\\\我的坚果云\\\\work\\\\Sincetimes_DOW\\\\9999-99-99 DOW 周报 3.0\\\\sqls\\\\sql16_act_pearlpaid.sql',\n",
       " 'sql17_act_sign': 'D:\\\\我的坚果云\\\\work\\\\Sincetimes_DOW\\\\9999-99-99 DOW 周报 3.0\\\\sqls\\\\sql17_act_sign.sql',\n",
       " 'sql18_act_sign': 'D:\\\\我的坚果云\\\\work\\\\Sincetimes_DOW\\\\9999-99-99 DOW 周报 3.0\\\\sqls\\\\sql18_act_sign.sql',\n",
       " 'sql19_act_furui': 'D:\\\\我的坚果云\\\\work\\\\Sincetimes_DOW\\\\9999-99-99 DOW 周报 3.0\\\\sqls\\\\sql19_act_furui.sql',\n",
       " 'sql20_act_furui': 'D:\\\\我的坚果云\\\\work\\\\Sincetimes_DOW\\\\9999-99-99 DOW 周报 3.0\\\\sqls\\\\sql20_act_furui.sql',\n",
       " 'sql21_act_god': 'D:\\\\我的坚果云\\\\work\\\\Sincetimes_DOW\\\\9999-99-99 DOW 周报 3.0\\\\sqls\\\\sql21_act_god.sql',\n",
       " 'sql22_act_god': 'D:\\\\我的坚果云\\\\work\\\\Sincetimes_DOW\\\\9999-99-99 DOW 周报 3.0\\\\sqls\\\\sql22_act_god.sql',\n",
       " 'sql23_act_shop': 'D:\\\\我的坚果云\\\\work\\\\Sincetimes_DOW\\\\9999-99-99 DOW 周报 3.0\\\\sqls\\\\sql23_act_shop.sql',\n",
       " 'sql24_act_shop': 'D:\\\\我的坚果云\\\\work\\\\Sincetimes_DOW\\\\9999-99-99 DOW 周报 3.0\\\\sqls\\\\sql24_act_shop.sql',\n",
       " 'sql25_act_party': 'D:\\\\我的坚果云\\\\work\\\\Sincetimes_DOW\\\\9999-99-99 DOW 周报 3.0\\\\sqls\\\\sql25_act_party.sql',\n",
       " 'sql26_act_party': 'D:\\\\我的坚果云\\\\work\\\\Sincetimes_DOW\\\\9999-99-99 DOW 周报 3.0\\\\sqls\\\\sql26_act_party.sql',\n",
       " 'sql27_act_party': 'D:\\\\我的坚果云\\\\work\\\\Sincetimes_DOW\\\\9999-99-99 DOW 周报 3.0\\\\sqls\\\\sql27_act_party.sql',\n",
       " 'sql28_act_sea': 'D:\\\\我的坚果云\\\\work\\\\Sincetimes_DOW\\\\9999-99-99 DOW 周报 3.0\\\\sqls\\\\sql28_act_sea.sql',\n",
       " 'sql29_act_sea': 'D:\\\\我的坚果云\\\\work\\\\Sincetimes_DOW\\\\9999-99-99 DOW 周报 3.0\\\\sqls\\\\sql29_act_sea.sql',\n",
       " 'sql30_act_good': 'D:\\\\我的坚果云\\\\work\\\\Sincetimes_DOW\\\\9999-99-99 DOW 周报 3.0\\\\sqls\\\\sql30_act_good.sql',\n",
       " 'sql31_act_good': 'D:\\\\我的坚果云\\\\work\\\\Sincetimes_DOW\\\\9999-99-99 DOW 周报 3.0\\\\sqls\\\\sql31_act_good.sql',\n",
       " 'sql32_act_free': 'D:\\\\我的坚果云\\\\work\\\\Sincetimes_DOW\\\\9999-99-99 DOW 周报 3.0\\\\sqls\\\\sql32_act_free.sql',\n",
       " 'sql33_act_free': 'D:\\\\我的坚果云\\\\work\\\\Sincetimes_DOW\\\\9999-99-99 DOW 周报 3.0\\\\sqls\\\\sql33_act_free.sql',\n",
       " 'sql34_act_soldier': 'D:\\\\我的坚果云\\\\work\\\\Sincetimes_DOW\\\\9999-99-99 DOW 周报 3.0\\\\sqls\\\\sql34_act_soldier.sql',\n",
       " 'sql35_act_soldier': 'D:\\\\我的坚果云\\\\work\\\\Sincetimes_DOW\\\\9999-99-99 DOW 周报 3.0\\\\sqls\\\\sql35_act_soldier.sql'}"
      ]
     },
     "execution_count": 4,
     "metadata": {},
     "output_type": "execute_result"
    }
   ],
   "source": [
    "#路径\n",
    "folder_path = 'D:\\我的坚果云\\work\\Sincetimes_DOW\\9999-99-99 DOW 周报 3.0\\sqls'\n",
    "save_path = 'D:\\我的坚果云\\work\\Sincetimes_DOW\\9999-99-99 DOW 周报 3.0\\data'\n",
    "file_list_ = os.listdir(folder_path)\n",
    "\n",
    "file_list = {}\n",
    "for file_name in file_list_:\n",
    "    file_path = os.path.join(folder_path, file_name)\n",
    "    file_name, file_type = os.path.splitext(os.path.basename(file_path))    \n",
    "    if file_type == '.sql':\n",
    "        file_list[file_name] = file_path\n",
    "    \n",
    "file_list"
   ]
  },
  {
   "cell_type": "code",
   "execution_count": 5,
   "id": "78699d35-8dd0-485b-8547-b07ab4f7219c",
   "metadata": {},
   "outputs": [],
   "source": [
    "sql_dict = {\n",
    "'D:\\\\我的坚果云\\\\work\\\\Sincetimes_DOW\\\\9999-99-99 DOW 周报 3.0\\\\sqls\\\\sql01_base.sql': {'start_date': \"'2024-11-01'\", 'end_date': \"'2025-12-29'\"},\n",
    "'D:\\\\我的坚果云\\\\work\\\\Sincetimes_DOW\\\\9999-99-99 DOW 周报 3.0\\\\sqls\\\\sql02_base.sql': {'start_date': \"'2024-10-01'\", 'end_date': \"'2025-12-29'\"},\n",
    "'D:\\\\我的坚果云\\\\work\\\\Sincetimes_DOW\\\\9999-99-99 DOW 周报 3.0\\\\sqls\\\\sql03_base.sql': {'start_date': \"'2024-11-01'\", 'end_date': \"'2025-12-29'\", 'pay_month': \"'2024-11-01'\"},\n",
    "'D:\\\\我的坚果云\\\\work\\\\Sincetimes_DOW\\\\9999-99-99 DOW 周报 3.0\\\\sqls\\\\sql04_base.sql': {'start_date': \"'2024-10-01'\", 'end_date': \"'2025-12-29'\"},\n",
    "'D:\\\\我的坚果云\\\\work\\\\Sincetimes_DOW\\\\9999-99-99 DOW 周报 3.0\\\\sqls\\\\sql05_base.sql': {'start_date': \"'2024-10-01'\", 'end_date': \"'2025-12-29'\"}    \n",
    "}"
   ]
  },
  {
   "cell_type": "code",
   "execution_count": 6,
   "id": "5a830449-7aca-4cb0-9101-2f60fa7a4b46",
   "metadata": {},
   "outputs": [],
   "source": [
    "def get_data(db, path, **kwargs):\n",
    "    dir_path, file_name = os.path.split(path)\n",
    "    dir_path = dir_path.replace('sqls', '')\n",
    "    file_name = file_name.split('.')[0]\n",
    "    print(dir_path, file_name)\n",
    "    \n",
    "    result = db.file_exec(path, **kwargs)\n",
    "    result = result.get('【001】No Description')\n",
    "    \n",
    "    sql = db.get_filesqls(path, **kwargs)\n",
    "    # print(result)\n",
    "    print(sql)\n",
    "    data = result.to_dataframe()\n",
    "    data.to_csv(f'{save_path}/{file_name}_res.csv', index=False)\n",
    "    # sql = db.get_filesqls(path, **kwargs)\n",
    "    print(result)\n",
    "#     for k, v in result.items():\n",
    "#         file_name = f'{file_name}_res.csv'\n",
    "        \n",
    "#         with open(f'{dir_path}/{file_name}', 'w', encoding='utf-8') as f:\n",
    "#             f.write(v)\n",
    "    \n",
    "    return file_name"
   ]
  },
  {
   "cell_type": "code",
   "execution_count": 7,
   "id": "30ef3fce-534e-4fb2-8169-4b7cbad4b5fa",
   "metadata": {},
   "outputs": [
    {
     "name": "stderr",
     "output_type": "stream",
     "text": [
      "2025-03-10 10:19:03.113 - MainThread - pydbapi.sql.parse - \u001b[33mWARNING\u001b[0m - parse.py - 210 - \u001b[33m【Final Arguments】【sql01_base.sql】 Use arguments {'end_date': \"'2025-12-29'\", 'start_date': \"'2024-11-01'\"}\u001b[0m\n",
      "2025-03-10 10:19:03.120 - MainThread - pydbapi.db.fileexec - \u001b[32mINFO\u001b[0m - fileexec.py - 40 - \u001b[32m>>> START 【001】No Description\u001b[0m\n",
      "2025-03-10 10:19:03.121 - MainThread - pydbapi.api.trino - \u001b[32mINFO\u001b[0m - trino.py - 151 - \u001b[32mconnect TrinoDB(dingyanlin@trino.sincetimes.com:8443/hive.dow_jpnew_w)\u001b[0m\n"
     ]
    },
    {
     "name": "stdout",
     "output_type": "stream",
     "text": [
      "start D:\\我的坚果云\\work\\Sincetimes_DOW\\9999-99-99 DOW 周报 3.0\\sqls\\sql01_base.sql\n",
      "D:\\我的坚果云\\work\\Sincetimes_DOW\\9999-99-99 DOW 周报 3.0\\ sql01_base\n"
     ]
    },
    {
     "name": "stderr",
     "output_type": "stream",
     "text": [
      "2025-03-10 10:19:29.371 - MainThread - pydbapi.db.fileexec - \u001b[32mINFO\u001b[0m - fileexec.py - 49 - \u001b[32m==================End Job 【sql01_base.sql】, cost 26.27 seconds==================\u001b[0m\n",
      "2025-03-10 10:19:29.374 - MainThread - pydbapi.sql.parse - \u001b[33mWARNING\u001b[0m - parse.py - 210 - \u001b[33m【Final Arguments】【sql01_base.sql】 Use arguments {'end_date': \"'2025-12-29'\", 'start_date': \"'2024-11-01'\"}\u001b[0m\n"
     ]
    },
    {
     "name": "stdout",
     "output_type": "stream",
     "text": [
      "({'end_date': \"'2025-12-29'\", 'start_date': \"'2024-11-01'\"}, {'【001】No Description': \"with month_tag as(\\nselect role_id, month, is_test, pay_tag\\nfrom hive.dow_jpnew_w.dws_user_info_mi\\n), \\n\\nuser_daily as(\\nselect a.date, a.role_id, \\nb.is_pay, a.money, a.web_money, \\na.money * 0.052102 as money_rmb, a.web_money * 0.052102 as webmoney_rmb, \\na.core_add, a.core_cost, b.core_end, \\na.sincetimes_add, a.sincetimes_cost, b.sincetimes_end\\nfrom hive.dow_jpnew_w.dws_user_daily_di a\\nleft join hive.dow_jpnew_w.dws_user_daily_derive_di b\\non a.role_id = b.role_id and a.date = b.date\\nleft join hive.dow_jpnew_w.dws_user_info_di z\\non a.role_id = z.role_id \\nwhere a.part_date >= '2024-11-01'\\nand a.part_date <= '2025-12-29'\\nand a.is_test is null\\n), \\n\\ndate_process_cal01 as(\\nselect date, date_trunc('month', date) as month, \\nlast_day_of_month(date) as last_of_month, \\ndate_trunc('month', date_add('day', 6, date_trunc('week', date))) as natualweek_turn_month, \\ndate_trunc('week', date) as start_natualweek, \\ndate_add('day', 6, date_trunc('week', date)) as end_natualweek, \\n7-day_of_week(date) as sunday_diff, \\nday_of_week(date)-1 as monday_diff, \\nrole_id, is_pay, money_rmb, webmoney_rmb, \\ncore_add, core_cost, core_end, \\nsincetimes_add, sincetimes_cost, sincetimes_end\\nfrom user_daily\\n), \\n\\ndate_process_cal02 as(\\nselect date, month, \\nlast_of_month, natualweek_turn_month, \\nstart_natualweek, end_natualweek, \\nsunday_diff, monday_diff, \\n(case when date = month then date \\nwhen date_add('day', -monday_diff, date) < month then month\\nelse start_natualweek end) as start_week, \\n(case when date = last_of_month then date \\nwhen date_add('day', sunday_diff, date) > last_of_month then last_of_month\\nelse date_add('day', sunday_diff, date) end) as end_week, \\nrole_id, is_pay, money_rmb, webmoney_rmb, \\ncore_add, core_cost, core_end, \\nsincetimes_add, sincetimes_cost, sincetimes_end\\nfrom date_process_cal01\\n), \\n\\ndate_process_info as(\\nselect date, a.month, \\nnatualweek_turn_month, start_natualweek, end_natualweek, \\nstart_week, end_week, \\nconcat(date_format(start_natualweek, '%m%d'), '-', date_format(end_natualweek, '%m%d')) as natual_week, \\nconcat(date_format(start_week, '%m%d'), '-', date_format(end_week, '%m%d')) as week, \\na.role_id, coalesce(c.pay_tag, '未活跃') as last1_paytag, is_pay, money_rmb, webmoney_rmb, \\ncore_add, core_cost, core_end, \\nsincetimes_add, sincetimes_cost, sincetimes_end\\nfrom date_process_cal02 a\\nleft join month_tag c\\non a.role_id = c.role_id and a.natualweek_turn_month = date_add('month', 1, c.month)\\n), \\n\\ncore_log_base as(\\nselect part_date, date(part_date) as date, event_time, \\nrole_id, open_id, adid, \\nzone_id, vip_level, level, rank_level, \\nreason, event_type, \\ncoalesce(free_num, 0) as free_num, coalesce(paid_num, 0) as paid_num, \\ncoalesce(free_end, 0) as free_end, coalesce(paid_end, 0) as paid_end\\nfrom hive.dow_jpnew_r.dwd_gserver_corechange_live\\nwhere part_date >= '2024-11-01'\\nand part_date <= '2025-12-29'\\nand reason != '638'\\n), \\n\\ncore_log as(\\nselect part_date, date, event_time, \\nrole_id, open_id, adid, \\nzone_id, vip_level, level, rank_level, reason, \\n(case when event_type = 'gain' then free_num + paid_num else null end) as core_add, \\n(case when event_type = 'cost' then free_num + paid_num else null end) as core_cost\\nfrom core_log_base\\n), \\n\\ncore_info as(\\nselect part_date, date, role_id, \\nsum(case when reason in('4', '933', '192', '399', '362', '307', '932', '20300', '10052', '10079', '194', '245', '937', '19601', '19602') then core_add else null end) as paid_add, \\nsum(case when reason in('387', '601', '602', '196', '310', '372', '239', '13001', '207', '240', '191', '193', '305', '101', '608', '678', '306', '2', '311', '680', '171', '17001', '10071', '354', '103') then core_add else null end) as free_add, \\nsum(case when reason in('15', '316') then core_add else null end) as special_add, \\nsum(case when reason not in ('4', '933', '192', '399', '362', '307', '932', '20300', '10052', '10079', '194', '245', '937', '19601', '19602', '15', '316', '387', '601', '602', '196', '310', '372', '239', '13001', '207', '240', '191', '193', '305', '101', '608', '678', '306', '2', '311', '680', '171', '17001', '10071', '354', '103') then core_add else null end) as other_add, \\nsum(case when reason not in('388', '389') then core_cost else null end) as special_cost, \\nsum(case when reason in('388', '389') then core_cost else 0 end) as other_cost\\nfrom core_log\\ngroup by 1, 2, 3\\n), \\n\\ndaily_info as(\\nselect a.date, a.month, \\na.natualweek_turn_month, a.start_natualweek, a.end_natualweek, \\na.start_week, a.end_week, a.natual_week, a.week, \\na.role_id, a.last1_paytag, a.is_pay, a.money_rmb, a.webmoney_rmb, \\na.core_add, a.core_cost, a.core_end, \\na.sincetimes_add, a.sincetimes_cost, a.sincetimes_end, \\nb.paid_add, b.free_add, b.special_add, \\nb.other_add, b.special_cost, b.other_cost,  \\nrow_number() over(partition by a.role_id, a.natual_week order by a.date desc) as rn\\nfrom date_process_info a\\nleft join core_info b\\non a.role_id = b.role_id and a.date = b.date\\n), \\n\\nnatualweekly_info as(\\nselect natual_week, role_id, \\nsum(is_pay) as natural_paycount\\nfrom daily_info\\ngroup by 1, 2\\n)\\n\\nselect a.date, a.month, \\na.natualweek_turn_month, a.start_natualweek, a.end_natualweek, \\na.start_week, a.end_week, a.natual_week, a.week, \\na.role_id, a.last1_paytag, \\na.is_pay, (case when rn = 1 and b.natural_paycount > 0 then 1 else null end) as is_weeklypay, \\na.money_rmb, a.webmoney_rmb, \\na.core_add, a.core_cost, a.core_end, \\na.sincetimes_add, a.sincetimes_cost, a.sincetimes_end, \\na.paid_add, a.free_add, a.special_add, \\na.other_add, a.special_cost, a.other_cost, \\n1 as dau, (case when rn = 1 then 1 else null end) as wau, rn\\nfrom daily_info a\\nleft join natualweekly_info b\\non a.role_id = b.role_id and a.natual_week = b.natual_week;\"})\n"
     ]
    },
    {
     "name": "stderr",
     "output_type": "stream",
     "text": [
      "2025-03-10 10:19:34.175 - MainThread - pydbapi.sql.parse - \u001b[33mWARNING\u001b[0m - parse.py - 210 - \u001b[33m【Final Arguments】【sql02_base.sql】 Use arguments {'end_date': \"'2025-12-29'\", 'start_date': \"'2024-10-01'\"}\u001b[0m\n",
      "2025-03-10 10:19:34.177 - MainThread - pydbapi.db.fileexec - \u001b[32mINFO\u001b[0m - fileexec.py - 40 - \u001b[32m>>> START 【001】No Description\u001b[0m\n"
     ]
    },
    {
     "name": "stdout",
     "output_type": "stream",
     "text": [
      "[304201 rows]date,month,natualweek_turn_month...\n",
      "end D:\\我的坚果云\\work\\Sincetimes_DOW\\9999-99-99 DOW 周报 3.0\\sqls\\sql01_base.sql\n",
      "start D:\\我的坚果云\\work\\Sincetimes_DOW\\9999-99-99 DOW 周报 3.0\\sqls\\sql02_base.sql\n",
      "D:\\我的坚果云\\work\\Sincetimes_DOW\\9999-99-99 DOW 周报 3.0\\ sql02_base\n"
     ]
    },
    {
     "name": "stderr",
     "output_type": "stream",
     "text": [
      "2025-03-10 10:19:35.866 - MainThread - pydbapi.db.fileexec - \u001b[32mINFO\u001b[0m - fileexec.py - 49 - \u001b[32m==================End Job 【sql02_base.sql】, cost 1.70 seconds===================\u001b[0m\n",
      "2025-03-10 10:19:35.868 - MainThread - pydbapi.sql.parse - \u001b[33mWARNING\u001b[0m - parse.py - 210 - \u001b[33m【Final Arguments】【sql02_base.sql】 Use arguments {'end_date': \"'2025-12-29'\", 'start_date': \"'2024-10-01'\"}\u001b[0m\n",
      "2025-03-10 10:19:35.879 - MainThread - pydbapi.sql.parse - \u001b[33mWARNING\u001b[0m - parse.py - 210 - \u001b[33m【Final Arguments】【sql03_base.sql】 Use arguments {'end_date': \"'2025-12-29'\", 'pay_month': \"'2024-11-01'\", 'start_date': \"'2024-11-01'\"}\u001b[0m\n",
      "2025-03-10 10:19:35.880 - MainThread - pydbapi.db.fileexec - \u001b[32mINFO\u001b[0m - fileexec.py - 40 - \u001b[32m>>> START 【001】No Description\u001b[0m\n"
     ]
    },
    {
     "name": "stdout",
     "output_type": "stream",
     "text": [
      "({'end_date': \"'2025-12-29'\", 'start_date': \"'2024-10-01'\"}, {'【001】No Description': \"with ads_data as(\\nselect date, sum(dau) as dau, sum(last7_dau) as last7_dau, sum(last30_dau) as last30_dau\\nfrom hive.dow_jpnew_w.ads_active_daily_di\\nwhere part_date >= '2024-10-01' and part_date <= '2025-12-29'\\ngroup by 1\\n), \\n\\ndate_process_cal01 as(\\nselect date, date_trunc('month', date) as month, \\nlast_day_of_month(date) as last_of_month, \\ndate_trunc('month', date_add('day', 6, date_trunc('week', date))) as natualweek_turn_month, \\ndate_trunc('week', date) as start_natualweek, \\ndate_add('day', 6, date_trunc('week', date)) as end_natualweek, \\n7-day_of_week(date) as sunday_diff, \\nday_of_week(date)-1 as monday_diff, \\ndau, last7_dau, last30_dau\\nfrom ads_data\\n), \\n\\ndate_process_cal02 as(\\nselect date, month, \\nlast_of_month, natualweek_turn_month, \\nstart_natualweek, end_natualweek, \\nsunday_diff, monday_diff, \\n(case when date = month then date \\nwhen date_add('day', -monday_diff, date) < month then month\\nelse start_natualweek end) as start_week, \\n(case when date = last_of_month then date \\nwhen date_add('day', sunday_diff, date) > last_of_month then last_of_month\\nelse date_add('day', sunday_diff, date) end) as end_week, \\ndau, last7_dau, last30_dau\\nfrom date_process_cal01\\n) \\n\\nselect date, month, \\nnatualweek_turn_month, start_natualweek, end_natualweek, \\nstart_week, end_week, \\nconcat(date_format(start_natualweek, '%m%d'), '-', date_format(end_natualweek, '%m%d')) as natual_week, \\nconcat(date_format(start_week, '%m%d'), '-', date_format(end_week, '%m%d')) as week, \\ndau, last7_dau, last30_dau\\nfrom date_process_cal02;\"})\n",
      "[161 rows]date,month,natualweek_turn_month...\n",
      "end D:\\我的坚果云\\work\\Sincetimes_DOW\\9999-99-99 DOW 周报 3.0\\sqls\\sql02_base.sql\n",
      "start D:\\我的坚果云\\work\\Sincetimes_DOW\\9999-99-99 DOW 周报 3.0\\sqls\\sql03_base.sql\n",
      "D:\\我的坚果云\\work\\Sincetimes_DOW\\9999-99-99 DOW 周报 3.0\\ sql03_base\n"
     ]
    },
    {
     "name": "stderr",
     "output_type": "stream",
     "text": [
      "2025-03-10 10:19:45.020 - MainThread - pydbapi.db.fileexec - \u001b[32mINFO\u001b[0m - fileexec.py - 49 - \u001b[32m==================End Job 【sql03_base.sql】, cost 9.15 seconds===================\u001b[0m\n",
      "2025-03-10 10:19:45.022 - MainThread - pydbapi.sql.parse - \u001b[33mWARNING\u001b[0m - parse.py - 210 - \u001b[33m【Final Arguments】【sql03_base.sql】 Use arguments {'end_date': \"'2025-12-29'\", 'pay_month': \"'2024-11-01'\", 'start_date': \"'2024-11-01'\"}\u001b[0m\n",
      "2025-03-10 10:19:45.033 - MainThread - pydbapi.sql.parse - \u001b[33mWARNING\u001b[0m - parse.py - 210 - \u001b[33m【Final Arguments】【sql04_base.sql】 Use arguments {'end_date': \"'2025-12-29'\", 'start_date': \"'2024-10-01'\"}\u001b[0m\n",
      "2025-03-10 10:19:45.034 - MainThread - pydbapi.db.fileexec - \u001b[32mINFO\u001b[0m - fileexec.py - 40 - \u001b[32m>>> START 【001】No Description\u001b[0m\n"
     ]
    },
    {
     "name": "stdout",
     "output_type": "stream",
     "text": [
      "({'end_date': \"'2025-12-29'\", 'pay_month': \"'2024-11-01'\", 'start_date': \"'2024-11-01'\"}, {'【001】No Description': \"with month_tag as(\\nselect role_id, month, is_test, pay_tag\\nfrom hive.dow_jpnew_w.dws_user_info_mi\\nwhere month = date '2024-11-01'\\n), \\n\\nuser_daily as(\\nselect a.date, a.role_id, \\ncoalesce(c.pay_tag, '未活跃') as pay_tag, \\n-- coalesce(d.pay_tag, '未活跃') as last1_tag, \\nb.is_pay, a.money, a.money * 0.052102 as money_rmb, a.pay_count\\nfrom hive.dow_jpnew_w.dws_user_daily_di a\\nleft join hive.dow_jpnew_w.dws_user_daily_derive_di b\\non a.role_id = b.role_id and a.date = b.date\\nleft join month_tag c\\non a.role_id = c.role_id\\n-- left join month_tag d\\n-- on a.role_id = d.role_id and date_trunc('month', a.date) = date_add('month', 1, d.month)\\nwhere a.part_date >= '2024-11-01'\\nand a.part_date <= '2025-12-29'\\nand a.is_test is null\\n), \\n\\ndate_process_cal01 as(\\nselect date, date_trunc('month', date) as month, \\nlast_day_of_month(date) as last_of_month, \\ndate_trunc('month', date_add('day', 6, date_trunc('week', date))) as natualweek_turn_month, \\ndate_trunc('week', date) as start_natualweek, \\ndate_add('day', 6, date_trunc('week', date)) as end_natualweek, \\n7-day_of_week(date) as sunday_diff, \\nday_of_week(date)-1 as monday_diff, \\nrole_id, pay_tag, \\n-- last1_tag, \\nis_pay, money_rmb, pay_count\\nfrom user_daily\\n), \\n\\ndate_process_cal02 as(\\nselect date, month, \\nlast_of_month, natualweek_turn_month, \\nstart_natualweek, end_natualweek, \\nsunday_diff, monday_diff, \\n(case when date = month then date \\nwhen date_add('day', -monday_diff, date) < month then month\\nelse start_natualweek end) as start_week, \\n(case when date = last_of_month then date \\nwhen date_add('day', sunday_diff, date) > last_of_month then last_of_month\\nelse date_add('day', sunday_diff, date) end) as end_week, \\nrole_id, pay_tag, \\n-- last1_tag, \\nis_pay, money_rmb, pay_count\\nfrom date_process_cal01\\n), \\n\\ndate_process_info as(\\nselect date, month, \\nnatualweek_turn_month, start_natualweek, end_natualweek, \\nstart_week, end_week, \\nconcat(date_format(start_natualweek, '%m%d'), '-', date_format(end_natualweek, '%m%d')) as natual_week, \\nconcat(date_format(start_week, '%m%d'), '-', date_format(end_week, '%m%d')) as week, \\nrole_id, pay_tag, \\n-- last1_tag, \\nis_pay, money_rmb, pay_count\\nfrom date_process_cal02\\n), \\n\\nmonthly_agg as(\\nselect month, pay_tag, count(distinct role_id) as last_mau\\nfrom date_process_info\\nwhere month = date '2024-11-01'\\ngroup by 1, 2\\n), \\n\\nweekly_info as(\\nselect month, start_week, end_week, week, \\npay_tag, role_id, \\nsum(pay_count) as weekly_paycount\\nfrom date_process_info\\ngroup by 1, 2, 3, 4, 5, 6\\n), \\n\\nweekly_agg as(\\nselect month, start_week, end_week, week, pay_tag, \\ncount(distinct role_id) as wau, \\ncount(distinct case when weekly_paycount>0 then role_id else null end) is_weeklypay\\nfrom weekly_info\\ngroup by 1, 2, 3, 4, 5\\n)\\n\\nselect a.start_week, a.end_week, a.week, a.pay_tag, \\nb.last_mau, a.wau, a.is_weeklypay\\nfrom weekly_agg a\\nleft join monthly_agg b\\non a.pay_tag = b.pay_tag;\"})\n",
      "[163 rows]start_week,end_week,week...\n",
      "end D:\\我的坚果云\\work\\Sincetimes_DOW\\9999-99-99 DOW 周报 3.0\\sqls\\sql03_base.sql\n",
      "start D:\\我的坚果云\\work\\Sincetimes_DOW\\9999-99-99 DOW 周报 3.0\\sqls\\sql04_base.sql\n",
      "D:\\我的坚果云\\work\\Sincetimes_DOW\\9999-99-99 DOW 周报 3.0\\ sql04_base\n"
     ]
    },
    {
     "name": "stderr",
     "output_type": "stream",
     "text": [
      "2025-03-10 10:19:54.671 - MainThread - pydbapi.db.fileexec - \u001b[32mINFO\u001b[0m - fileexec.py - 49 - \u001b[32m==================End Job 【sql04_base.sql】, cost 9.65 seconds===================\u001b[0m\n",
      "2025-03-10 10:19:54.673 - MainThread - pydbapi.sql.parse - \u001b[33mWARNING\u001b[0m - parse.py - 210 - \u001b[33m【Final Arguments】【sql04_base.sql】 Use arguments {'end_date': \"'2025-12-29'\", 'start_date': \"'2024-10-01'\"}\u001b[0m\n",
      "2025-03-10 10:19:54.780 - MainThread - pydbapi.sql.parse - \u001b[33mWARNING\u001b[0m - parse.py - 210 - \u001b[33m【Final Arguments】【sql05_base.sql】 Use arguments {'end_date': \"'2025-12-29'\", 'start_date': \"'2024-10-01'\"}\u001b[0m\n",
      "2025-03-10 10:19:54.781 - MainThread - pydbapi.db.fileexec - \u001b[32mINFO\u001b[0m - fileexec.py - 40 - \u001b[32m>>> START 【001】No Description\u001b[0m\n"
     ]
    },
    {
     "name": "stdout",
     "output_type": "stream",
     "text": [
      "({'end_date': \"'2025-12-29'\", 'start_date': \"'2024-10-01'\"}, {'【001】No Description': \"with month_tag as(\\nselect role_id, month, is_test, pay_tag\\nfrom hive.dow_jpnew_w.dws_user_info_mi\\n), \\n\\npayment_log as(\\nselect part_date, date(part_date) as date, event_time, \\na.role_id, open_id, \\na.payment_itemid, b.payment_act, b.payment_name, \\na.pay_source, currency, money, money * 0.052102 as money_rmb\\nfrom hive.dow_jpnew_r.dwd_gserver_payment_live a\\nleft join hive.dow_jpnew_w.dim_gserver_payment_paymentitemid b\\non a.payment_itemid = b.payment_itemid\\nwhere part_date >= '2024-10-01'\\nand part_date <= '2025-12-29'\\n), \\n\\npaymentdetail_log as(\\nselect part_date, date(part_date) as date, event_time, \\nrole_id, open_id, \\na.payment_item_id as payment_itemid, b.payment_act, b.payment_name, \\nitems_detail, rawmoney * 0.052102 as money_rmb\\nfrom hive.dow_jpnew_r.dwd_gserver_paymentdetail_live a\\nleft join hive.dow_jpnew_w.dim_gserver_payment_paymentitemid b\\non a.payment_item_id = b.payment_itemid\\n), \\n\\npaymentdetail_explore_log as(\\nselect part_date, date, event_time, \\nrole_id, open_id, \\npayment_itemid, payment_act, payment_name, items_detail, \\njson_extract_scalar(t.item, '$.item_id') as item_id,\\ncast(json_extract_scalar(t.item, '$.itemcount') as bigint) as item_count\\nfrom paymentdetail_log\\ncross join unnest(items_detail) as t(item)\\n), \\n\\npayment_daily_info as(\\nselect part_date, date, role_id, \\npayment_itemid, payment_act, payment_name, \\nsum(money_rmb) as money_rmb\\nfrom payment_log\\ngroup by 1, 2, 3, 4, 5, 6\\n), \\n\\npaymentdetail_daily_info as(\\nselect part_date, date, role_id, \\npayment_itemid, payment_act, payment_name, \\nsum(item_count) as paid_add\\nfrom paymentdetail_explore_log\\nwhere item_id = '1'\\ngroup by 1, 2, 3, 4, 5, 6\\n), \\n\\npayment_join as(\\nselect a.part_date, a.date, a.role_id, \\na.payment_itemid, a.payment_act, a.payment_name, \\na.money_rmb, b.paid_add\\nfrom payment_daily_info a\\nleft join paymentdetail_daily_info b\\non a.part_date = b.part_date and a.role_id = b.role_id\\nand a.payment_itemid = b.payment_itemid\\n), \\n\\ndate_process_cal01 as(\\nselect date, date_trunc('month', date) as month, \\nlast_day_of_month(date) as last_of_month, \\ndate_trunc('month', date_add('day', 6, date_trunc('week', date))) as natualweek_turn_month, \\ndate_trunc('week', date) as start_natualweek, \\ndate_add('day', 6, date_trunc('week', date)) as end_natualweek, \\n7-day_of_week(date) as sunday_diff, \\nday_of_week(date)-1 as monday_diff, \\nrole_id, payment_itemid, payment_act, payment_name, \\nmoney_rmb, paid_add\\nfrom payment_join\\n), \\n\\ndate_process_cal02 as(\\nselect date, month, \\nlast_of_month, natualweek_turn_month, \\nstart_natualweek, end_natualweek, \\nsunday_diff, monday_diff, \\n(case when date = month then date \\nwhen date_add('day', -monday_diff, date) < month then month\\nelse start_natualweek end) as start_week, \\n(case when date = last_of_month then date \\nwhen date_add('day', sunday_diff, date) > last_of_month then last_of_month\\nelse date_add('day', sunday_diff, date) end) as end_week, \\nrole_id, payment_itemid, payment_act, payment_name, \\nmoney_rmb, paid_add\\nfrom date_process_cal01\\n), \\n\\ndate_process_info as(\\nselect date, a.month, \\nnatualweek_turn_month, start_natualweek, end_natualweek, \\nstart_week, end_week, \\nconcat(date_format(start_natualweek, '%m%d'), '-', date_format(end_natualweek, '%m%d')) as natual_week, \\nconcat(date_format(start_week, '%m%d'), '-', date_format(end_week, '%m%d')) as week, \\na.role_id, coalesce(c.pay_tag, '未活跃') as last1_paytag, \\npayment_itemid, payment_act, payment_name, \\nmoney_rmb, paid_add\\nfrom date_process_cal02 a\\nleft join month_tag c\\non a.role_id = c.role_id and a.natualweek_turn_month = date_add('month', 1, c.month)\\n), \\n\\ngroup_cal01 as(\\nselect 'paymentname_date_group' as type, \\ncast(date as varchar) as period, last1_paytag, \\npayment_act as dtype1, payment_name as dtype2, \\ncount(distinct role_id) as users, \\nsum(money_rmb) as money_rmb, \\nsum(paid_add) as paid_add\\nfrom date_process_info\\ngroup by 1, 2, 3, 4, 5\\n), \\n\\ngroup_cal02 as(\\nselect 'paymentname_week_group' as type, \\nnatual_week as period, last1_paytag, \\npayment_act as dtype1, payment_name as dtype2, \\ncount(distinct role_id) as users, \\nsum(money_rmb) as money_rmb, \\nsum(paid_add) as paid_add\\nfrom date_process_info\\ngroup by 1, 2, 3, 4, 5\\n), \\n\\ngroup_cal03 as(\\nselect 'paymentact_week_group' as type, \\nnatual_week as period, last1_paytag, \\npayment_act as dtype1, null as dtype2, \\ncount(distinct role_id) as users, \\nsum(money_rmb) as money_rmb, \\nsum(paid_add) as paid_add\\nfrom date_process_info\\ngroup by 1, 2, 3, 4, 5\\n)\\n\\nselect * from group_cal01\\nunion all\\nselect * from group_cal02\\nunion all\\nselect * from group_cal03\"})\n",
      "[26482 rows]type,period,last1_paytag...\n",
      "end D:\\我的坚果云\\work\\Sincetimes_DOW\\9999-99-99 DOW 周报 3.0\\sqls\\sql04_base.sql\n",
      "start D:\\我的坚果云\\work\\Sincetimes_DOW\\9999-99-99 DOW 周报 3.0\\sqls\\sql05_base.sql\n",
      "D:\\我的坚果云\\work\\Sincetimes_DOW\\9999-99-99 DOW 周报 3.0\\ sql05_base\n"
     ]
    },
    {
     "name": "stderr",
     "output_type": "stream",
     "text": [
      "2025-03-10 10:20:04.133 - MainThread - pydbapi.db.fileexec - \u001b[32mINFO\u001b[0m - fileexec.py - 49 - \u001b[32m==================End Job 【sql05_base.sql】, cost 9.36 seconds===================\u001b[0m\n",
      "2025-03-10 10:20:04.136 - MainThread - pydbapi.sql.parse - \u001b[33mWARNING\u001b[0m - parse.py - 210 - \u001b[33m【Final Arguments】【sql05_base.sql】 Use arguments {'end_date': \"'2025-12-29'\", 'start_date': \"'2024-10-01'\"}\u001b[0m\n"
     ]
    },
    {
     "name": "stdout",
     "output_type": "stream",
     "text": [
      "({'end_date': \"'2025-12-29'\", 'start_date': \"'2024-10-01'\"}, {'【001】No Description': \"with month_tag as(\\nselect role_id, month, is_test, pay_tag\\nfrom hive.dow_jpnew_w.dws_user_info_mi\\n-- where part_month = $pay_month\\n), \\n\\ncore_log_base as(\\nselect part_date, date(part_date) as date, event_time, \\na.role_id, open_id, adid, \\nzone_id, vip_level, level, rank_level, \\nreason, reason_cn, event_type, \\ncoalesce(free_num, 0) as free_num, coalesce(paid_num, 0) as paid_num, \\ncoalesce(free_end, 0) as free_end, coalesce(paid_end, 0) as paid_end\\nfrom hive.dow_jpnew_r.dwd_gserver_corechange_live a\\nleft join hive.dow_jpnew_w.dim_gserver_addgold_reason b\\non a.reason = b.id\\nwhere part_date >= '2024-10-01'\\nand part_date <= '2025-12-29'\\nand reason != '638'\\n), \\n\\ncore_log as(\\nselect part_date, date, event_time, \\nrole_id, open_id, adid, \\nzone_id, vip_level, level, rank_level, \\n(case when reason in('4', '933', '192', '399', '362', '307', '932', '20300', '10052', '10079', '194', '245', '937', '19601', '19602') then 'gold_paid' \\nwhen reason in('387', '601', '602', '196', '310', '372', '239', '13001', '207', '240', '191', '193', '305', '101', '608', '678', '306', '2', '311', '680', '171', '17001', '10071', '354', '103') then 'gold_free'\\nwhen reason in('15', '316') then 'special'\\nelse 'other' end) as reason_type, reason, reason_cn, \\n(case when event_type = 'gain' then free_num + paid_num else null end) as core_add, \\n(case when event_type = 'cost' then free_num + paid_num else null end) as core_cost\\nfrom core_log_base\\n), \\n\\ndate_process_cal01 as(\\nselect date, date_trunc('month', date) as month, \\nlast_day_of_month(date) as last_of_month, \\ndate_trunc('month', date_add('day', 6, date_trunc('week', date))) as natualweek_turn_month, \\ndate_trunc('week', date) as start_natualweek, \\ndate_add('day', 6, date_trunc('week', date)) as end_natualweek, \\n7-day_of_week(date) as sunday_diff, \\nday_of_week(date)-1 as monday_diff, \\nrole_id, reason_type, reason, reason_cn, \\ncore_add, core_cost\\nfrom core_log\\n), \\n\\ndate_process_cal02 as(\\nselect date, month, \\nlast_of_month, natualweek_turn_month, \\nstart_natualweek, end_natualweek, \\nsunday_diff, monday_diff, \\n(case when date = month then date \\nwhen date_add('day', -monday_diff, date) < month then month\\nelse start_natualweek end) as start_week, \\n(case when date = last_of_month then date \\nwhen date_add('day', sunday_diff, date) > last_of_month then last_of_month\\nelse date_add('day', sunday_diff, date) end) as end_week, \\nrole_id, reason_type, reason, reason_cn, \\ncore_add, core_cost\\nfrom date_process_cal01\\n), \\n\\ndate_process_info as(\\nselect date, a.month, \\nnatualweek_turn_month, start_natualweek, end_natualweek, \\nstart_week, end_week, \\nconcat(date_format(start_natualweek, '%m%d'), '-', date_format(end_natualweek, '%m%d')) as natual_week, \\nconcat(date_format(start_week, '%m%d'), '-', date_format(end_week, '%m%d')) as week, \\na.role_id, coalesce(c.pay_tag, '未活跃') as last1_paytag, reason_type, reason, reason_cn, \\ncore_add, core_cost\\nfrom date_process_cal02 a\\nleft join month_tag c\\non a.role_id = c.role_id and a.natualweek_turn_month = date_add('month', 1, c.month)\\n)\\n\\nselect start_natualweek, end_natualweek, natual_week, \\nreason_type, reason, reason_cn, last1_paytag, \\ncount(distinct role_id) as users, \\nsum(core_add) as core_add, \\nsum(core_cost) as core_cost\\nfrom date_process_info\\ngroup by 1, 2, 3, 4, 5, 6, 7\"})\n",
      "[9098 rows]start_natualweek,end_natualweek,natual_week...\n",
      "end D:\\我的坚果云\\work\\Sincetimes_DOW\\9999-99-99 DOW 周报 3.0\\sqls\\sql05_base.sql\n"
     ]
    }
   ],
   "source": [
    "for path, para in sql_dict.items():\n",
    "    path = path\n",
    "    # start_date = para.get('start_date')\n",
    "    # end_date = para.get('end_date')\n",
    "    # print(para)\n",
    "    \n",
    "    print(f'start {path}')\n",
    "    get_data(db, path, **para)\n",
    "    print(f'end {path}')"
   ]
  },
  {
   "cell_type": "code",
   "execution_count": 19,
   "id": "91d39591-41ad-40d4-b72a-41a2fb019e88",
   "metadata": {},
   "outputs": [
    {
     "data": {
      "text/html": [
       "<div>\n",
       "<style scoped>\n",
       "    .dataframe tbody tr th:only-of-type {\n",
       "        vertical-align: middle;\n",
       "    }\n",
       "\n",
       "    .dataframe tbody tr th {\n",
       "        vertical-align: top;\n",
       "    }\n",
       "\n",
       "    .dataframe thead th {\n",
       "        text-align: right;\n",
       "    }\n",
       "</style>\n",
       "<table border=\"1\" class=\"dataframe\">\n",
       "  <thead>\n",
       "    <tr style=\"text-align: right;\">\n",
       "      <th></th>\n",
       "      <th>act_name</th>\n",
       "      <th>start_date</th>\n",
       "      <th>end_date</th>\n",
       "      <th>code</th>\n",
       "      <th>month</th>\n",
       "      <th>last_startdate</th>\n",
       "      <th>last_enddate</th>\n",
       "      <th>paytag</th>\n",
       "      <th>data_start</th>\n",
       "    </tr>\n",
       "  </thead>\n",
       "  <tbody>\n",
       "  </tbody>\n",
       "</table>\n",
       "</div>"
      ],
      "text/plain": [
       "Empty DataFrame\n",
       "Columns: [act_name, start_date, end_date, code, month, last_startdate, last_enddate, paytag, data_start]\n",
       "Index: []"
      ]
     },
     "execution_count": 19,
     "metadata": {},
     "output_type": "execute_result"
    }
   ],
   "source": [
    "act_conf = pd.read_csv(r'D:\\我的坚果云\\work\\GIT\\junction_table\\dow\\map\\dim_gserver_activity_act.csv', parse_dates=['start_date', 'end_date', 'month'])\n",
    "# act_conf.info()\n",
    "act_conf = act_conf.sort_values('start_date')\n",
    "\n",
    "act_conf['last_startdate'] = act_conf.groupby(['act_name'])['start_date'].shift(1)\n",
    "act_conf['last_enddate'] = act_conf.groupby(['act_name'])['end_date'].shift(1)\n",
    "# act_conf['paytag'] = act_conf.groupby(['act_name'])['month'].shift(1)\n",
    "act_conf['paytag'] = act_conf['month']\n",
    "act_conf['data_start'] = act_conf.apply(lambda x: x.month if x.month <= x.last_startdate else x.last_startdate, axis=1)\n",
    "\n",
    "last_date = datetime.today()\n",
    "last_date = last_date.replace(hour=0, minute=0, second=0, microsecond=0)\n",
    "week_day = datetime.weekday(last_date)\n",
    "last_monday = last_date - timedelta(days = week_day + 7)\n",
    "last_friday = last_date - timedelta(days = week_day -3)\n",
    "yesterday = last_date - timedelta(days = 1)\n",
    "this_tuesday = last_date - timedelta(days = 14)\n",
    "# act_select = act_conf[(act_conf.end_date>last_monday)&(act_conf.end_date<last_date)]\n",
    "act_select = act_conf[(act_conf.end_date>last_friday)&(act_conf.end_date<last_date)&(act_conf.act_name.isin(['行脚商人']))]\n",
    "# act_select = act_conf[(act_conf.end_date>last_monday)&(act_conf.end_date<last_date)]\n",
    "# act_select = act_conf[(act_conf.act_name.isin(['周年活跃活动']))&(act_conf.end_date>=pd.to_datetime('2024-10-30'))]\n",
    "# act_select = act_conf[(act_conf.act_name.isin(['周年招募']))&(act_conf.end_date>=pd.to_datetime('2024-10-07'))&(act_conf.end_date<=pd.to_datetime('2024-10-13'))]\n",
    "# act_select = act_conf[(act_conf.end_date>last_monday)&(act_conf.act_name.isin(['超级转盘']))]\n",
    "# act_select\n",
    "# act_list = act_select.code.unique().tolist()\n",
    "act_select"
   ]
  },
  {
   "cell_type": "code",
   "execution_count": null,
   "id": "e740c64f-80f1-4053-acec-90a5c3ad398e",
   "metadata": {
    "jp-MarkdownHeadingCollapsed": true,
    "tags": []
   },
   "outputs": [],
   "source": [
    "### act_select = act_select.copy()\n",
    "\n",
    "act_select['start_date'] = act_select['start_date'].apply(lambda x: x.strftime('%Y-%m-%d'))\n",
    "act_select['end_date'] = act_select['end_date'].apply(lambda x: x.strftime('%Y-%m-%d'))\n",
    "act_select['month'] = act_select['month'].apply(lambda x: x.strftime('%Y-%m-%d'))\n",
    "act_select['last_startdate'] = act_select['last_startdate'].apply(lambda x: np.nan if pd.isna(x) else x.strftime('%Y-%m-%d'))\n",
    "act_select['last_enddate'] = act_select['last_enddate'].apply(lambda x: x.strftime('%Y-%m-%d'))\n",
    "act_select['paytag'] = act_select['paytag'].apply(lambda x: x.strftime('%Y-%m-%d'))\n",
    "act_select['data_start'] = act_select['data_start'].apply(lambda x: x.strftime('%Y-%m-%d'))\n",
    "\n",
    "\n",
    "# act_select.info()"
   ]
  },
  {
   "cell_type": "code",
   "execution_count": 9,
   "id": "085b338c-470f-49c4-9bd4-0d352be0fbe9",
   "metadata": {},
   "outputs": [
    {
     "data": {
      "text/html": [
       "<div>\n",
       "<style scoped>\n",
       "    .dataframe tbody tr th:only-of-type {\n",
       "        vertical-align: middle;\n",
       "    }\n",
       "\n",
       "    .dataframe tbody tr th {\n",
       "        vertical-align: top;\n",
       "    }\n",
       "\n",
       "    .dataframe thead th {\n",
       "        text-align: right;\n",
       "    }\n",
       "</style>\n",
       "<table border=\"1\" class=\"dataframe\">\n",
       "  <thead>\n",
       "    <tr style=\"text-align: right;\">\n",
       "      <th></th>\n",
       "      <th>act_name</th>\n",
       "      <th>start_date</th>\n",
       "      <th>end_date</th>\n",
       "      <th>code</th>\n",
       "      <th>month</th>\n",
       "      <th>last_startdate</th>\n",
       "      <th>last_enddate</th>\n",
       "      <th>paytag</th>\n",
       "      <th>data_start</th>\n",
       "    </tr>\n",
       "  </thead>\n",
       "  <tbody>\n",
       "    <tr>\n",
       "      <th>332</th>\n",
       "      <td>行脚商人</td>\n",
       "      <td>2025-03-03</td>\n",
       "      <td>2025-03-05</td>\n",
       "      <td>shop</td>\n",
       "      <td>2025-02-01</td>\n",
       "      <td>2025-02-19</td>\n",
       "      <td>2025-02-22</td>\n",
       "      <td>2025-02-01</td>\n",
       "      <td>2025-02-01</td>\n",
       "    </tr>\n",
       "    <tr>\n",
       "      <th>340</th>\n",
       "      <td>行脚商人</td>\n",
       "      <td>2025-03-07</td>\n",
       "      <td>2025-03-10</td>\n",
       "      <td>shop</td>\n",
       "      <td>2025-02-01</td>\n",
       "      <td>2025-03-03</td>\n",
       "      <td>2025-03-05</td>\n",
       "      <td>2025-02-01</td>\n",
       "      <td>2025-02-01</td>\n",
       "    </tr>\n",
       "  </tbody>\n",
       "</table>\n",
       "</div>"
      ],
      "text/plain": [
       "    act_name  start_date    end_date  code       month last_startdate  \\\n",
       "332     行脚商人  2025-03-03  2025-03-05  shop  2025-02-01     2025-02-19   \n",
       "340     行脚商人  2025-03-07  2025-03-10  shop  2025-02-01     2025-03-03   \n",
       "\n",
       "    last_enddate      paytag  data_start  \n",
       "332   2025-02-22  2025-02-01  2025-02-01  \n",
       "340   2025-03-05  2025-02-01  2025-02-01  "
      ]
     },
     "execution_count": 9,
     "metadata": {},
     "output_type": "execute_result"
    }
   ],
   "source": [
    "act_select"
   ]
  },
  {
   "cell_type": "code",
   "execution_count": 10,
   "id": "60725a51-9bd6-4ff5-8494-a8592f9e64f9",
   "metadata": {},
   "outputs": [
    {
     "data": {
      "text/plain": [
       "{}"
      ]
     },
     "execution_count": 10,
     "metadata": {},
     "output_type": "execute_result"
    }
   ],
   "source": [
    "act_list = {}\n",
    "\n",
    "for item in file_list.items():\n",
    "    # print(item)\n",
    "    file_name, file_path = item\n",
    "    file_name, file_type = os.path.splitext(os.path.basename(file_path))\n",
    "    # print(file_name, file_type)\n",
    "    act_name = file_name.split('_')[-1]\n",
    "    # print(act_name)\n",
    "    pay_month = act_select[act_select.code==act_name].paytag.values    \n",
    "    \n",
    "    if file_type == '.sql' and len(pay_month) == 1:\n",
    "        act_list[file_path] = {'pay_month': f\"'{pay_month[0]}'\"}\n",
    "        # print(file_name, act_name)\n",
    "    \n",
    "act_list"
   ]
  },
  {
   "cell_type": "code",
   "execution_count": 11,
   "id": "3ba220e6-a4fd-43c4-a88c-e21df5710c11",
   "metadata": {},
   "outputs": [],
   "source": [
    "for path, para in act_list.items():    \n",
    "    # path = path\n",
    "    # **para = para\n",
    "    # start_date = para.get('start_date')\n",
    "    # end_date = para.get('end_date')\n",
    "    # print(para)\n",
    "    \n",
    "    print(f'start {path}')\n",
    "    get_data(db, path, **para)\n",
    "    print(f'end {path}')"
   ]
  },
  {
   "cell_type": "code",
   "execution_count": null,
   "id": "868f932a-e968-4ed1-bd71-6ef884c517d9",
   "metadata": {},
   "outputs": [],
   "source": []
  },
  {
   "cell_type": "code",
   "execution_count": null,
   "id": "eef9d588-7d62-4d42-9f31-25fb10ea41ef",
   "metadata": {},
   "outputs": [],
   "source": []
  }
 ],
 "metadata": {
  "kernelspec": {
   "display_name": "Python 3 (ipykernel)",
   "language": "python",
   "name": "python3"
  },
  "language_info": {
   "codemirror_mode": {
    "name": "ipython",
    "version": 3
   },
   "file_extension": ".py",
   "mimetype": "text/x-python",
   "name": "python",
   "nbconvert_exporter": "python",
   "pygments_lexer": "ipython3",
   "version": "3.9.13"
  },
  "toc": {
   "base_numbering": 1,
   "nav_menu": {},
   "number_sections": true,
   "sideBar": true,
   "skip_h1_title": false,
   "title_cell": "Table of Contents",
   "title_sidebar": "Contents",
   "toc_cell": false,
   "toc_position": {},
   "toc_section_display": true,
   "toc_window_display": false
  },
  "varInspector": {
   "cols": {
    "lenName": 16,
    "lenType": 16,
    "lenVar": 40
   },
   "kernels_config": {
    "python": {
     "delete_cmd_postfix": "",
     "delete_cmd_prefix": "del ",
     "library": "var_list.py",
     "varRefreshCmd": "print(var_dic_list())"
    },
    "r": {
     "delete_cmd_postfix": ") ",
     "delete_cmd_prefix": "rm(",
     "library": "var_list.r",
     "varRefreshCmd": "cat(var_dic_list()) "
    }
   },
   "types_to_exclude": [
    "module",
    "function",
    "builtin_function_or_method",
    "instance",
    "_Feature"
   ],
   "window_display": false
  }
 },
 "nbformat": 4,
 "nbformat_minor": 5
}
