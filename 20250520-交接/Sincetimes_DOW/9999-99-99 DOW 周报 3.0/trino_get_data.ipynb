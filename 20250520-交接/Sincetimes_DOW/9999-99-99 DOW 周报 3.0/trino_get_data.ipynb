{
 "cells": [
  {
   "cell_type": "code",
   "execution_count": 1,
   "id": "7703bbae",
   "metadata": {},
   "outputs": [],
   "source": [
    "import pydbapi\n",
    "from pydbapi.api import TrinoDB\n",
    "\n",
    "import os\n",
    "import pandas as pd\n",
    "import numpy as np\n",
    "from datetime import datetime, timedelta"
   ]
  },
  {
   "cell_type": "code",
   "execution_count": 2,
   "id": "cf6d07f7",
   "metadata": {},
   "outputs": [],
   "source": [
    "host = 'trino.sincetimes.com'\n",
    "user = 'dingyanlin'\n",
    "password = '569pJr*caDbQpoiy'\n",
    "database = 'dow_jpnew_w'\n",
    "catalog = 'hive'\n",
    "port = 8443"
   ]
  },
  {
   "cell_type": "code",
   "execution_count": 3,
   "id": "f71c1b4b",
   "metadata": {},
   "outputs": [],
   "source": [
    "db = TrinoDB(host, user, password, database, catalog, port=8443, safe_rule=True)"
   ]
  },
  {
   "cell_type": "code",
   "execution_count": 4,
   "id": "956526f1",
   "metadata": {},
   "outputs": [],
   "source": [
    "#路径\n",
    "folder_path = 'D:\\我的坚果云\\work\\Sincetimes_DOW\\9999-99-99 DOW 周报 3.0\\sqls'\n",
    "save_path = 'D:\\我的坚果云\\work\\Sincetimes_DOW\\9999-99-99 DOW 周报 3.0\\data'\n",
    "file_list_ = os.listdir(folder_path)\n",
    "\n",
    "file_list = {}\n",
    "for file_name in file_list_:\n",
    "    file_path = os.path.join(folder_path, file_name)\n",
    "    file_name, file_type = os.path.splitext(os.path.basename(file_path))    \n",
    "    if file_type == '.sql':\n",
    "        file_list[file_name] = file_path\n",
    "    \n",
    "# file_list"
   ]
  },
  {
   "cell_type": "code",
   "execution_count": 5,
   "id": "78699d35-8dd0-485b-8547-b07ab4f7219c",
   "metadata": {},
   "outputs": [],
   "source": [
    "sql_dict = {\n",
    "'D:\\\\我的坚果云\\\\work\\\\Sincetimes_DOW\\\\9999-99-99 DOW 周报 3.0\\\\sqls\\\\sql01_base.sql': {'start_date': \"'2025-01-01'\", 'end_date': \"'2025-12-29'\"},\n",
    "'D:\\\\我的坚果云\\\\work\\\\Sincetimes_DOW\\\\9999-99-99 DOW 周报 3.0\\\\sqls\\\\sql02_base.sql': {'start_date': \"'2025-01-01'\", 'end_date': \"'2025-12-29'\"},\n",
    "'D:\\\\我的坚果云\\\\work\\\\Sincetimes_DOW\\\\9999-99-99 DOW 周报 3.0\\\\sqls\\\\sql03_base.sql': {'start_date': \"'2024-11-01'\", 'end_date': \"'2025-12-29'\", 'pay_month': \"'2025-04-01'\"},\n",
    "'D:\\\\我的坚果云\\\\work\\\\Sincetimes_DOW\\\\9999-99-99 DOW 周报 3.0\\\\sqls\\\\sql04_base.sql': {'start_date': \"'2025-01-01'\", 'end_date': \"'2025-12-29'\"},\n",
    "'D:\\\\我的坚果云\\\\work\\\\Sincetimes_DOW\\\\9999-99-99 DOW 周报 3.0\\\\sqls\\\\sql05_base.sql': {'start_date': \"'2025-01-01'\", 'end_date': \"'2025-12-29'\"},    \n",
    "'D:\\\\我的坚果云\\\\work\\\\Sincetimes_DOW\\\\9999-99-99 DOW 周报 3.0\\\\sqls\\\\sql40_base.sql': {'start_date': \"'2023-11-01'\", 'end_date': \"'2025-12-29'\", 'pay_month': \"'2025-04-01'\"},\n",
    "'D:\\\\我的坚果云\\\\work\\\\Sincetimes_DOW\\\\9999-99-99 DOW 周报 3.0\\\\sqls\\\\sql41_base.sql': {'start_date': \"'2025-01-01'\", 'end_date': \"'2025-12-29'\"},\n",
    "    \n",
    "}"
   ]
  },
  {
   "cell_type": "code",
   "execution_count": 6,
   "id": "5a830449-7aca-4cb0-9101-2f60fa7a4b46",
   "metadata": {},
   "outputs": [],
   "source": [
    "def get_data(db, path, **kwargs):\n",
    "    dir_path, file_name = os.path.split(path)\n",
    "    dir_path = dir_path.replace('sqls', '')\n",
    "    file_name = file_name.split('.')[0]\n",
    "    file_name_ = file_name.split(\"'\\'\")[-1]\n",
    "    print(dir_path, file_name)\n",
    "    \n",
    "    result = db.file_exec(path, **kwargs)\n",
    "    print(result)\n",
    "    result = result.get(f'【001】{file_name_}')\n",
    "    \n",
    "    sql = db.get_filesqls(path, **kwargs)\n",
    "    # print(result)\n",
    "    print(sql)\n",
    "    data = result.to_dataframe()\n",
    "    data.to_csv(f'{save_path}/{file_name}_res.csv', index=False)\n",
    "    # sql = db.get_filesqls(path, **kwargs)\n",
    "    print(result)\n",
    "#     for k, v in result.items():\n",
    "#         file_name = f'{file_name}_res.csv'\n",
    "        \n",
    "#         with open(f'{dir_path}/{file_name}', 'w', encoding='utf-8') as f:\n",
    "#             f.write(v)\n",
    "    \n",
    "    return file_name"
   ]
  },
  {
   "cell_type": "code",
   "execution_count": 7,
   "id": "30ef3fce-534e-4fb2-8169-4b7cbad4b5fa",
   "metadata": {
    "tags": []
   },
   "outputs": [
    {
     "name": "stderr",
     "output_type": "stream",
     "text": [
      "2025-05-26 14:48:05.894 - MainThread - pydbapi.sql.fileparse - \u001b[33mWARNING\u001b[0m - fileparse.py - 118 - \u001b[33m【Final Arguments】【sql01_base】 Use arguments {'today': \"'2025-05-26'\", 'now': \"'2025-05-26 14:48:05'\", 'start_date': \"'2024-11-01'\", 'end_date': \"'2025-12-29'\"}\u001b[0m\n"
     ]
    },
    {
     "name": "stdout",
     "output_type": "stream",
     "text": [
      "start D:\\我的坚果云\\work\\Sincetimes_DOW\\9999-99-99 DOW 周报 3.0\\sqls\\sql01_base.sql\n",
      "D:\\我的坚果云\\work\\Sincetimes_DOW\\9999-99-99 DOW 周报 3.0\\ sql01_base\n"
     ]
    },
    {
     "name": "stderr",
     "output_type": "stream",
     "text": [
      "2025-05-26 14:48:06.105 - MainThread - pydbapi.db.fileexec - \u001b[32mINFO\u001b[0m - fileexec.py - 41 - \u001b[32m>>> START 【001】sql01_base\u001b[0m\n",
      "2025-05-26 14:48:06.106 - MainThread - pydbapi.api.trino - \u001b[32mINFO\u001b[0m - trino.py - 155 - \u001b[32mconnect TrinoDB(dingyanlin@trino.sincetimes.com:8443/hive.dow_jpnew_w)\u001b[0m\n",
      "2025-05-26 14:48:43.039 - MainThread - pydbapi.db.fileexec - \u001b[32mINFO\u001b[0m - fileexec.py - 54 - \u001b[32m====================End Job 【sql01_base】, cost 37.15 seconds====================\u001b[0m\n",
      "2025-05-26 14:48:43.041 - MainThread - pydbapi.sql.fileparse - \u001b[33mWARNING\u001b[0m - fileparse.py - 118 - \u001b[33m【Final Arguments】【sql01_base】 Use arguments {'today': \"'2025-05-26'\", 'now': \"'2025-05-26 14:48:43'\", 'start_date': \"'2024-11-01'\", 'end_date': \"'2025-12-29'\"}\u001b[0m\n"
     ]
    },
    {
     "name": "stdout",
     "output_type": "stream",
     "text": [
      "{'【001】sql01_base': [475097 rows]date,month,natualweek_turn_month...}\n",
      "({'today': \"'2025-05-26'\", 'now': \"'2025-05-26 14:48:43'\", 'start_date': \"'2024-11-01'\", 'end_date': \"'2025-12-29'\"}, {'【001】sql01_base': SqlStatements([stmt:1]SqlStatement(<with>daily_info), ...)})\n"
     ]
    },
    {
     "name": "stderr",
     "output_type": "stream",
     "text": [
      "2025-05-26 14:48:51.121 - MainThread - pydbapi.sql.fileparse - \u001b[33mWARNING\u001b[0m - fileparse.py - 118 - \u001b[33m【Final Arguments】【sql02_base】 Use arguments {'today': \"'2025-05-26'\", 'now': \"'2025-05-26 14:48:51'\", 'start_date': \"'2024-10-01'\", 'end_date': \"'2025-12-29'\"}\u001b[0m\n",
      "2025-05-26 14:48:51.170 - MainThread - pydbapi.db.fileexec - \u001b[32mINFO\u001b[0m - fileexec.py - 41 - \u001b[32m>>> START 【001】sql02_base\u001b[0m\n"
     ]
    },
    {
     "name": "stdout",
     "output_type": "stream",
     "text": [
      "[475097 rows]date,month,natualweek_turn_month...\n",
      "end D:\\我的坚果云\\work\\Sincetimes_DOW\\9999-99-99 DOW 周报 3.0\\sqls\\sql01_base.sql\n",
      "start D:\\我的坚果云\\work\\Sincetimes_DOW\\9999-99-99 DOW 周报 3.0\\sqls\\sql02_base.sql\n",
      "D:\\我的坚果云\\work\\Sincetimes_DOW\\9999-99-99 DOW 周报 3.0\\ sql02_base\n"
     ]
    },
    {
     "name": "stderr",
     "output_type": "stream",
     "text": [
      "2025-05-26 14:48:52.905 - MainThread - pydbapi.db.fileexec - \u001b[32mINFO\u001b[0m - fileexec.py - 54 - \u001b[32m====================End Job 【sql02_base】, cost 1.79 seconds=====================\u001b[0m\n",
      "2025-05-26 14:48:52.907 - MainThread - pydbapi.sql.fileparse - \u001b[33mWARNING\u001b[0m - fileparse.py - 118 - \u001b[33m【Final Arguments】【sql02_base】 Use arguments {'today': \"'2025-05-26'\", 'now': \"'2025-05-26 14:48:52'\", 'start_date': \"'2024-10-01'\", 'end_date': \"'2025-12-29'\"}\u001b[0m\n",
      "2025-05-26 14:48:52.975 - MainThread - pydbapi.sql.fileparse - \u001b[33mWARNING\u001b[0m - fileparse.py - 118 - \u001b[33m【Final Arguments】【sql03_base】 Use arguments {'today': \"'2025-05-26'\", 'now': \"'2025-05-26 14:48:52'\", 'start_date': \"'2024-11-01'\", 'end_date': \"'2025-12-29'\", 'pay_month': \"'2025-04-01'\"}\u001b[0m\n",
      "2025-05-26 14:48:53.067 - MainThread - pydbapi.db.fileexec - \u001b[32mINFO\u001b[0m - fileexec.py - 41 - \u001b[32m>>> START 【001】sql03_base\u001b[0m\n"
     ]
    },
    {
     "name": "stdout",
     "output_type": "stream",
     "text": [
      "{'【001】sql02_base': [238 rows]date,month,natualweek_turn_month...}\n",
      "({'today': \"'2025-05-26'\", 'now': \"'2025-05-26 14:48:52'\", 'start_date': \"'2024-10-01'\", 'end_date': \"'2025-12-29'\"}, {'【001】sql02_base': SqlStatements([stmt:1]SqlStatement(<with>date_process_cal02), ...)})\n",
      "[238 rows]date,month,natualweek_turn_month...\n",
      "end D:\\我的坚果云\\work\\Sincetimes_DOW\\9999-99-99 DOW 周报 3.0\\sqls\\sql02_base.sql\n",
      "start D:\\我的坚果云\\work\\Sincetimes_DOW\\9999-99-99 DOW 周报 3.0\\sqls\\sql03_base.sql\n",
      "D:\\我的坚果云\\work\\Sincetimes_DOW\\9999-99-99 DOW 周报 3.0\\ sql03_base\n"
     ]
    },
    {
     "name": "stderr",
     "output_type": "stream",
     "text": [
      "2025-05-26 14:49:00.601 - MainThread - pydbapi.db.fileexec - \u001b[32mINFO\u001b[0m - fileexec.py - 54 - \u001b[32m====================End Job 【sql03_base】, cost 7.64 seconds=====================\u001b[0m\n",
      "2025-05-26 14:49:00.602 - MainThread - pydbapi.sql.fileparse - \u001b[33mWARNING\u001b[0m - fileparse.py - 118 - \u001b[33m【Final Arguments】【sql03_base】 Use arguments {'today': \"'2025-05-26'\", 'now': \"'2025-05-26 14:49:00'\", 'start_date': \"'2024-11-01'\", 'end_date': \"'2025-12-29'\", 'pay_month': \"'2025-04-01'\"}\u001b[0m\n",
      "2025-05-26 14:49:00.705 - MainThread - pydbapi.sql.fileparse - \u001b[33mWARNING\u001b[0m - fileparse.py - 118 - \u001b[33m【Final Arguments】【sql04_base】 Use arguments {'today': \"'2025-05-26'\", 'now': \"'2025-05-26 14:49:00'\", 'start_date': \"'2024-10-01'\", 'end_date': \"'2025-12-29'\"}\u001b[0m\n"
     ]
    },
    {
     "name": "stdout",
     "output_type": "stream",
     "text": [
      "{'【001】sql03_base': [254 rows]start_week,end_week,week...}\n",
      "({'today': \"'2025-05-26'\", 'now': \"'2025-05-26 14:49:00'\", 'start_date': \"'2024-11-01'\", 'end_date': \"'2025-12-29'\", 'pay_month': \"'2025-04-01'\"}, {'【001】sql03_base': SqlStatements([stmt:1]SqlStatement(<with>weekly_agg), ...)})\n",
      "[254 rows]start_week,end_week,week...\n",
      "end D:\\我的坚果云\\work\\Sincetimes_DOW\\9999-99-99 DOW 周报 3.0\\sqls\\sql03_base.sql\n",
      "start D:\\我的坚果云\\work\\Sincetimes_DOW\\9999-99-99 DOW 周报 3.0\\sqls\\sql04_base.sql\n",
      "D:\\我的坚果云\\work\\Sincetimes_DOW\\9999-99-99 DOW 周报 3.0\\ sql04_base\n"
     ]
    },
    {
     "name": "stderr",
     "output_type": "stream",
     "text": [
      "2025-05-26 14:49:00.847 - MainThread - pydbapi.db.fileexec - \u001b[32mINFO\u001b[0m - fileexec.py - 41 - \u001b[32m>>> START 【001】sql04_base\u001b[0m\n",
      "2025-05-26 14:49:10.777 - MainThread - pydbapi.db.fileexec - \u001b[32mINFO\u001b[0m - fileexec.py - 54 - \u001b[32m====================End Job 【sql04_base】, cost 10.08 seconds====================\u001b[0m\n",
      "2025-05-26 14:49:10.779 - MainThread - pydbapi.sql.fileparse - \u001b[33mWARNING\u001b[0m - fileparse.py - 118 - \u001b[33m【Final Arguments】【sql04_base】 Use arguments {'today': \"'2025-05-26'\", 'now': \"'2025-05-26 14:49:10'\", 'start_date': \"'2024-10-01'\", 'end_date': \"'2025-12-29'\"}\u001b[0m\n"
     ]
    },
    {
     "name": "stdout",
     "output_type": "stream",
     "text": [
      "{'【001】sql04_base': [39231 rows]type,period,last1_paytag...}\n",
      "({'today': \"'2025-05-26'\", 'now': \"'2025-05-26 14:49:10'\", 'start_date': \"'2024-10-01'\", 'end_date': \"'2025-12-29'\"}, {'【001】sql04_base': SqlStatements([stmt:1]SqlStatement(<with>group_cal01), ...)})\n"
     ]
    },
    {
     "name": "stderr",
     "output_type": "stream",
     "text": [
      "2025-05-26 14:49:11.085 - MainThread - pydbapi.sql.fileparse - \u001b[33mWARNING\u001b[0m - fileparse.py - 118 - \u001b[33m【Final Arguments】【sql05_base】 Use arguments {'today': \"'2025-05-26'\", 'now': \"'2025-05-26 14:49:11'\", 'start_date': \"'2024-10-01'\", 'end_date': \"'2025-12-29'\"}\u001b[0m\n",
      "2025-05-26 14:49:11.195 - MainThread - pydbapi.db.fileexec - \u001b[32mINFO\u001b[0m - fileexec.py - 41 - \u001b[32m>>> START 【001】sql05_base\u001b[0m\n"
     ]
    },
    {
     "name": "stdout",
     "output_type": "stream",
     "text": [
      "[39231 rows]type,period,last1_paytag...\n",
      "end D:\\我的坚果云\\work\\Sincetimes_DOW\\9999-99-99 DOW 周报 3.0\\sqls\\sql04_base.sql\n",
      "start D:\\我的坚果云\\work\\Sincetimes_DOW\\9999-99-99 DOW 周报 3.0\\sqls\\sql05_base.sql\n",
      "D:\\我的坚果云\\work\\Sincetimes_DOW\\9999-99-99 DOW 周报 3.0\\ sql05_base\n"
     ]
    },
    {
     "name": "stderr",
     "output_type": "stream",
     "text": [
      "2025-05-26 14:49:19.995 - MainThread - pydbapi.db.fileexec - \u001b[32mINFO\u001b[0m - fileexec.py - 54 - \u001b[32m====================End Job 【sql05_base】, cost 8.92 seconds=====================\u001b[0m\n",
      "2025-05-26 14:49:19.996 - MainThread - pydbapi.sql.fileparse - \u001b[33mWARNING\u001b[0m - fileparse.py - 118 - \u001b[33m【Final Arguments】【sql05_base】 Use arguments {'today': \"'2025-05-26'\", 'now': \"'2025-05-26 14:49:19'\", 'start_date': \"'2024-10-01'\", 'end_date': \"'2025-12-29'\"}\u001b[0m\n",
      "2025-05-26 14:49:20.188 - MainThread - pydbapi.sql.fileparse - \u001b[33mWARNING\u001b[0m - fileparse.py - 118 - \u001b[33m【Final Arguments】【sql40_base】 Use arguments {'today': \"'2025-05-26'\", 'now': \"'2025-05-26 14:49:20'\", 'start_date': \"'2023-11-01'\", 'end_date': \"'2025-12-29'\", 'pay_month': \"'2025-04-01'\"}\u001b[0m\n"
     ]
    },
    {
     "name": "stdout",
     "output_type": "stream",
     "text": [
      "{'【001】sql05_base': [13535 rows]start_natualweek,end_natualweek,natual_week...}\n",
      "({'today': \"'2025-05-26'\", 'now': \"'2025-05-26 14:49:19'\", 'start_date': \"'2024-10-01'\", 'end_date': \"'2025-12-29'\"}, {'【001】sql05_base': SqlStatements([stmt:1]SqlStatement(<with>date_process_info), ...)})\n",
      "[13535 rows]start_natualweek,end_natualweek,natual_week...\n",
      "end D:\\我的坚果云\\work\\Sincetimes_DOW\\9999-99-99 DOW 周报 3.0\\sqls\\sql05_base.sql\n",
      "start D:\\我的坚果云\\work\\Sincetimes_DOW\\9999-99-99 DOW 周报 3.0\\sqls\\sql40_base.sql\n",
      "D:\\我的坚果云\\work\\Sincetimes_DOW\\9999-99-99 DOW 周报 3.0\\ sql40_base\n"
     ]
    },
    {
     "name": "stderr",
     "output_type": "stream",
     "text": [
      "2025-05-26 14:49:20.319 - MainThread - pydbapi.db.fileexec - \u001b[32mINFO\u001b[0m - fileexec.py - 41 - \u001b[32m>>> START 【001】sql40_base\u001b[0m\n",
      "2025-05-26 14:49:33.161 - MainThread - pydbapi.db.fileexec - \u001b[32mINFO\u001b[0m - fileexec.py - 54 - \u001b[32m====================End Job 【sql40_base】, cost 12.98 seconds====================\u001b[0m\n",
      "2025-05-26 14:49:33.163 - MainThread - pydbapi.sql.fileparse - \u001b[33mWARNING\u001b[0m - fileparse.py - 118 - \u001b[33m【Final Arguments】【sql40_base】 Use arguments {'today': \"'2025-05-26'\", 'now': \"'2025-05-26 14:49:33'\", 'start_date': \"'2023-11-01'\", 'end_date': \"'2025-12-29'\", 'pay_month': \"'2025-04-01'\"}\u001b[0m\n",
      "2025-05-26 14:49:33.313 - MainThread - pydbapi.sql.fileparse - \u001b[33mWARNING\u001b[0m - fileparse.py - 118 - \u001b[33m【Final Arguments】【sql41_base】 Use arguments {'today': \"'2025-05-26'\", 'now': \"'2025-05-26 14:49:33'\", 'start_date': \"'2025-01-01'\", 'end_date': \"'2025-12-29'\"}\u001b[0m\n"
     ]
    },
    {
     "name": "stdout",
     "output_type": "stream",
     "text": [
      "{'【001】sql40_base': [3981 rows]date,pay_tag,is_pay...}\n",
      "({'today': \"'2025-05-26'\", 'now': \"'2025-05-26 14:49:33'\", 'start_date': \"'2023-11-01'\", 'end_date': \"'2025-12-29'\", 'pay_month': \"'2025-04-01'\"}, {'【001】sql40_base': SqlStatements([stmt:1]SqlStatement(<with>res::sum(is_80003) as is_80003,  sum(is_80004) as is_80004,  sum(is_80005) as is_80005,  sum(is_80006) as is_80006,  sum(is_301) as is_301,  sum(is_302) as is_302,  sum(is_316) as is_316,  sum(is_317) as is_317,), ...)})\n",
      "[3981 rows]date,pay_tag,is_pay...\n",
      "end D:\\我的坚果云\\work\\Sincetimes_DOW\\9999-99-99 DOW 周报 3.0\\sqls\\sql40_base.sql\n",
      "start D:\\我的坚果云\\work\\Sincetimes_DOW\\9999-99-99 DOW 周报 3.0\\sqls\\sql41_base.sql\n",
      "D:\\我的坚果云\\work\\Sincetimes_DOW\\9999-99-99 DOW 周报 3.0\\ sql41_base\n"
     ]
    },
    {
     "name": "stderr",
     "output_type": "stream",
     "text": [
      "2025-05-26 14:49:33.420 - MainThread - pydbapi.db.fileexec - \u001b[32mINFO\u001b[0m - fileexec.py - 41 - \u001b[32m>>> START 【001】sql41_base\u001b[0m\n",
      "2025-05-26 14:49:35.824 - MainThread - pydbapi.db.fileexec - \u001b[32mINFO\u001b[0m - fileexec.py - 54 - \u001b[32m====================End Job 【sql41_base】, cost 2.52 seconds=====================\u001b[0m\n",
      "2025-05-26 14:49:35.826 - MainThread - pydbapi.sql.fileparse - \u001b[33mWARNING\u001b[0m - fileparse.py - 118 - \u001b[33m【Final Arguments】【sql41_base】 Use arguments {'today': \"'2025-05-26'\", 'now': \"'2025-05-26 14:49:35'\", 'start_date': \"'2025-01-01'\", 'end_date': \"'2025-12-29'\"}\u001b[0m\n"
     ]
    },
    {
     "name": "stdout",
     "output_type": "stream",
     "text": [
      "{'【001】sql41_base': [2419 rows]type,period,last1_paytag...}\n",
      "({'today': \"'2025-05-26'\", 'now': \"'2025-05-26 14:49:35'\", 'start_date': \"'2025-01-01'\", 'end_date': \"'2025-12-29'\"}, {'【001】sql41_base': SqlStatements([stmt:1]SqlStatement(<with>group_cal03), ...)})\n",
      "[2419 rows]type,period,last1_paytag...\n",
      "end D:\\我的坚果云\\work\\Sincetimes_DOW\\9999-99-99 DOW 周报 3.0\\sqls\\sql41_base.sql\n"
     ]
    }
   ],
   "source": [
    "for path, para in sql_dict.items():\n",
    "    path = path\n",
    "    # start_date = para.get('start_date')\n",
    "    # end_date = para.get('end_date')\n",
    "    # print(para)\n",
    "    \n",
    "    print(f'start {path}')\n",
    "    get_data(db, path, **para)\n",
    "    print(f'end {path}')"
   ]
  },
  {
   "cell_type": "code",
   "execution_count": 8,
   "id": "91d39591-41ad-40d4-b72a-41a2fb019e88",
   "metadata": {},
   "outputs": [
    {
     "data": {
      "text/html": [
       "<div>\n",
       "<style scoped>\n",
       "    .dataframe tbody tr th:only-of-type {\n",
       "        vertical-align: middle;\n",
       "    }\n",
       "\n",
       "    .dataframe tbody tr th {\n",
       "        vertical-align: top;\n",
       "    }\n",
       "\n",
       "    .dataframe thead th {\n",
       "        text-align: right;\n",
       "    }\n",
       "</style>\n",
       "<table border=\"1\" class=\"dataframe\">\n",
       "  <thead>\n",
       "    <tr style=\"text-align: right;\">\n",
       "      <th></th>\n",
       "      <th>act_name</th>\n",
       "      <th>start_date</th>\n",
       "      <th>end_date</th>\n",
       "      <th>code</th>\n",
       "      <th>month</th>\n",
       "      <th>last_startdate</th>\n",
       "      <th>last_enddate</th>\n",
       "      <th>paytag</th>\n",
       "      <th>data_start</th>\n",
       "    </tr>\n",
       "  </thead>\n",
       "  <tbody>\n",
       "    <tr>\n",
       "      <th>408</th>\n",
       "      <td>游园会</td>\n",
       "      <td>2025-05-18</td>\n",
       "      <td>2025-05-21</td>\n",
       "      <td>party</td>\n",
       "      <td>2025-04-01</td>\n",
       "      <td>2025-04-20</td>\n",
       "      <td>2025-04-23</td>\n",
       "      <td>2025-04-01</td>\n",
       "      <td>2025-04-01</td>\n",
       "    </tr>\n",
       "    <tr>\n",
       "      <th>409</th>\n",
       "      <td>神兵出世</td>\n",
       "      <td>2025-05-18</td>\n",
       "      <td>2025-05-20</td>\n",
       "      <td>soldier</td>\n",
       "      <td>2025-04-01</td>\n",
       "      <td>2025-05-10</td>\n",
       "      <td>2025-05-12</td>\n",
       "      <td>2025-04-01</td>\n",
       "      <td>2025-04-01</td>\n",
       "    </tr>\n",
       "    <tr>\n",
       "      <th>410</th>\n",
       "      <td>超级转盘</td>\n",
       "      <td>2025-05-22</td>\n",
       "      <td>2025-05-25</td>\n",
       "      <td>turn</td>\n",
       "      <td>2025-04-01</td>\n",
       "      <td>2025-05-06</td>\n",
       "      <td>2025-05-09</td>\n",
       "      <td>2025-04-01</td>\n",
       "      <td>2025-04-01</td>\n",
       "    </tr>\n",
       "    <tr>\n",
       "      <th>411</th>\n",
       "      <td>神武锻造</td>\n",
       "      <td>2025-05-22</td>\n",
       "      <td>2025-05-24</td>\n",
       "      <td>god</td>\n",
       "      <td>2025-04-01</td>\n",
       "      <td>2025-05-06</td>\n",
       "      <td>2025-05-08</td>\n",
       "      <td>2025-04-01</td>\n",
       "      <td>2025-04-01</td>\n",
       "    </tr>\n",
       "  </tbody>\n",
       "</table>\n",
       "</div>"
      ],
      "text/plain": [
       "    act_name start_date   end_date     code      month last_startdate  \\\n",
       "408      游园会 2025-05-18 2025-05-21    party 2025-04-01     2025-04-20   \n",
       "409     神兵出世 2025-05-18 2025-05-20  soldier 2025-04-01     2025-05-10   \n",
       "410     超级转盘 2025-05-22 2025-05-25     turn 2025-04-01     2025-05-06   \n",
       "411     神武锻造 2025-05-22 2025-05-24      god 2025-04-01     2025-05-06   \n",
       "\n",
       "    last_enddate     paytag data_start  \n",
       "408   2025-04-23 2025-04-01 2025-04-01  \n",
       "409   2025-05-12 2025-04-01 2025-04-01  \n",
       "410   2025-05-09 2025-04-01 2025-04-01  \n",
       "411   2025-05-08 2025-04-01 2025-04-01  "
      ]
     },
     "execution_count": 8,
     "metadata": {},
     "output_type": "execute_result"
    }
   ],
   "source": [
    "act_conf = pd.read_csv(r'D:\\我的坚果云\\work\\GIT\\junction_table\\dow\\map\\dim_gserver_activity_act.csv', parse_dates=['start_date', 'end_date', 'month'])\n",
    "# act_conf.info()\n",
    "act_conf = act_conf.sort_values('start_date')\n",
    "\n",
    "act_conf['last_startdate'] = act_conf.groupby(['act_name'])['start_date'].shift(1)\n",
    "act_conf['last_enddate'] = act_conf.groupby(['act_name'])['end_date'].shift(1)\n",
    "# act_conf['paytag'] = act_conf.groupby(['act_name'])['month'].shift(1)\n",
    "act_conf['paytag'] = act_conf['month']\n",
    "act_conf['data_start'] = act_conf.apply(lambda x: x.month if x.month <= x.last_startdate else x.last_startdate, axis=1)\n",
    "\n",
    "last_date = datetime.today()\n",
    "last_date = last_date.replace(hour=0, minute=0, second=0, microsecond=0)\n",
    "week_day = datetime.weekday(last_date)\n",
    "last_monday = last_date - timedelta(days = week_day + 8)\n",
    "last_friday = last_date - timedelta(days = week_day - 6)\n",
    "yesterday = last_date - timedelta(days = 1)\n",
    "this_tuesday = last_date - timedelta(days = 14)\n",
    "act_select = act_conf[(act_conf.end_date>last_monday)&(act_conf.end_date<last_date)]\n",
    "# act_select = act_conf[(act_conf.end_date>last_monday)&(act_conf.end_date<last_date)&(act_conf.act_name.isin(['周年招募']))]\n",
    "# act_select = act_conf[(act_conf.end_date>last_monday)&(act_conf.end_date<last_date)&~(act_conf.act_name.isin(['情人节活动']))]\n",
    "# act_select = act_conf[(act_conf.end_date>last_monday)&(act_conf.end_date<last_date)]\n",
    "# act_select = act_conf[(act_conf.act_name.isin(['周年活跃活动']))&(act_conf.end_date>=pd.to_datetime('2024-10-30'))]\n",
    "# act_select = act_conf[(act_conf.act_name.isin(['周年招募']))&(act_conf.end_date>=pd.to_datetime('2024-10-07'))&(act_conf.end_date<=pd.to_datetime('2024-10-13'))]\n",
    "# act_select = act_conf[(act_conf.end_date>last_monday)&(act_conf.act_name.isin(['超级转盘']))]\n",
    "# act_select\n",
    "# act_list = act_select.code.unique().tolist()\n",
    "\n",
    "act_select"
   ]
  },
  {
   "cell_type": "code",
   "execution_count": 9,
   "id": "e740c64f-80f1-4053-acec-90a5c3ad398e",
   "metadata": {
    "jp-MarkdownHeadingCollapsed": true,
    "tags": []
   },
   "outputs": [
    {
     "data": {
      "text/html": [
       "<div>\n",
       "<style scoped>\n",
       "    .dataframe tbody tr th:only-of-type {\n",
       "        vertical-align: middle;\n",
       "    }\n",
       "\n",
       "    .dataframe tbody tr th {\n",
       "        vertical-align: top;\n",
       "    }\n",
       "\n",
       "    .dataframe thead th {\n",
       "        text-align: right;\n",
       "    }\n",
       "</style>\n",
       "<table border=\"1\" class=\"dataframe\">\n",
       "  <thead>\n",
       "    <tr style=\"text-align: right;\">\n",
       "      <th></th>\n",
       "      <th>act_name</th>\n",
       "      <th>start_date</th>\n",
       "      <th>end_date</th>\n",
       "      <th>code</th>\n",
       "      <th>month</th>\n",
       "      <th>last_startdate</th>\n",
       "      <th>last_enddate</th>\n",
       "      <th>paytag</th>\n",
       "      <th>data_start</th>\n",
       "    </tr>\n",
       "  </thead>\n",
       "  <tbody>\n",
       "    <tr>\n",
       "      <th>408</th>\n",
       "      <td>游园会</td>\n",
       "      <td>2025-05-18</td>\n",
       "      <td>2025-05-21</td>\n",
       "      <td>party</td>\n",
       "      <td>2025-04-01</td>\n",
       "      <td>2025-04-20</td>\n",
       "      <td>2025-04-23</td>\n",
       "      <td>2025-04-01</td>\n",
       "      <td>2025-04-01</td>\n",
       "    </tr>\n",
       "    <tr>\n",
       "      <th>409</th>\n",
       "      <td>神兵出世</td>\n",
       "      <td>2025-05-18</td>\n",
       "      <td>2025-05-20</td>\n",
       "      <td>soldier</td>\n",
       "      <td>2025-04-01</td>\n",
       "      <td>2025-05-10</td>\n",
       "      <td>2025-05-12</td>\n",
       "      <td>2025-04-01</td>\n",
       "      <td>2025-04-01</td>\n",
       "    </tr>\n",
       "    <tr>\n",
       "      <th>410</th>\n",
       "      <td>超级转盘</td>\n",
       "      <td>2025-05-22</td>\n",
       "      <td>2025-05-25</td>\n",
       "      <td>turn</td>\n",
       "      <td>2025-04-01</td>\n",
       "      <td>2025-05-06</td>\n",
       "      <td>2025-05-09</td>\n",
       "      <td>2025-04-01</td>\n",
       "      <td>2025-04-01</td>\n",
       "    </tr>\n",
       "    <tr>\n",
       "      <th>411</th>\n",
       "      <td>神武锻造</td>\n",
       "      <td>2025-05-22</td>\n",
       "      <td>2025-05-24</td>\n",
       "      <td>god</td>\n",
       "      <td>2025-04-01</td>\n",
       "      <td>2025-05-06</td>\n",
       "      <td>2025-05-08</td>\n",
       "      <td>2025-04-01</td>\n",
       "      <td>2025-04-01</td>\n",
       "    </tr>\n",
       "  </tbody>\n",
       "</table>\n",
       "</div>"
      ],
      "text/plain": [
       "    act_name  start_date    end_date     code       month last_startdate  \\\n",
       "408      游园会  2025-05-18  2025-05-21    party  2025-04-01     2025-04-20   \n",
       "409     神兵出世  2025-05-18  2025-05-20  soldier  2025-04-01     2025-05-10   \n",
       "410     超级转盘  2025-05-22  2025-05-25     turn  2025-04-01     2025-05-06   \n",
       "411     神武锻造  2025-05-22  2025-05-24      god  2025-04-01     2025-05-06   \n",
       "\n",
       "    last_enddate      paytag  data_start  \n",
       "408   2025-04-23  2025-04-01  2025-04-01  \n",
       "409   2025-05-12  2025-04-01  2025-04-01  \n",
       "410   2025-05-09  2025-04-01  2025-04-01  \n",
       "411   2025-05-08  2025-04-01  2025-04-01  "
      ]
     },
     "execution_count": 9,
     "metadata": {},
     "output_type": "execute_result"
    }
   ],
   "source": [
    "act_select = act_select.copy()\n",
    "\n",
    "act_select['start_date'] = act_select['start_date'].apply(lambda x: x.strftime('%Y-%m-%d'))\n",
    "act_select['end_date'] = act_select['end_date'].apply(lambda x: x.strftime('%Y-%m-%d'))\n",
    "act_select['month'] = act_select['month'].apply(lambda x: x.strftime('%Y-%m-%d'))\n",
    "act_select['last_startdate'] = act_select['last_startdate'].apply(lambda x: np.nan if pd.isna(x) else x.strftime('%Y-%m-%d'))\n",
    "act_select['last_enddate'] = act_select['last_enddate'].apply(lambda x: np.nan if pd.isna(x) else x.strftime('%Y-%m-%d'))\n",
    "# act_select['last_enddate'] = act_select['last_enddate'].apply(lambda x: x.strftime('%Y-%m-%d'))\n",
    "act_select['paytag'] = act_select['paytag'].apply(lambda x: x.strftime('%Y-%m-%d'))\n",
    "# act_select['data_start'] = act_select['data_start'].apply(lambda x: x.strftime('%Y-%m-%d'))\n",
    "act_select['data_start'] = act_select['data_start'].apply(lambda x: np.nan if pd.isna(x) else x.strftime('%Y-%m-%d'))\n",
    "\n",
    "\n",
    "# act_select = act_select.iloc[1:, :]\n",
    "# act_select.info()\n",
    "act_select = act_select.drop_duplicates(subset=['code'], keep='last')\n",
    "act_select"
   ]
  },
  {
   "cell_type": "code",
   "execution_count": 10,
   "id": "81f62799-b017-4774-8b29-dfadc8df421c",
   "metadata": {},
   "outputs": [
    {
     "name": "stdout",
     "output_type": "stream",
     "text": [
      "sql01_act_turn turn\n",
      "sql02_act_turn turn\n",
      "sql03_act_turn turn\n",
      "sql21_act_god god\n",
      "sql22_act_god god\n",
      "sql25_act_party party\n",
      "sql26_act_party party\n",
      "sql27_act_party party\n",
      "sql34_act_soldier soldier\n",
      "sql35_act_soldier soldier\n"
     ]
    },
    {
     "data": {
      "text/plain": [
       "{'D:\\\\我的坚果云\\\\work\\\\Sincetimes_DOW\\\\9999-99-99 DOW 周报 3.0\\\\sqls\\\\sql01_act_turn.sql': {'pay_month': \"'2025-04-01'\"},\n",
       " 'D:\\\\我的坚果云\\\\work\\\\Sincetimes_DOW\\\\9999-99-99 DOW 周报 3.0\\\\sqls\\\\sql02_act_turn.sql': {'pay_month': \"'2025-04-01'\"},\n",
       " 'D:\\\\我的坚果云\\\\work\\\\Sincetimes_DOW\\\\9999-99-99 DOW 周报 3.0\\\\sqls\\\\sql03_act_turn.sql': {'pay_month': \"'2025-04-01'\"},\n",
       " 'D:\\\\我的坚果云\\\\work\\\\Sincetimes_DOW\\\\9999-99-99 DOW 周报 3.0\\\\sqls\\\\sql21_act_god.sql': {'pay_month': \"'2025-04-01'\"},\n",
       " 'D:\\\\我的坚果云\\\\work\\\\Sincetimes_DOW\\\\9999-99-99 DOW 周报 3.0\\\\sqls\\\\sql22_act_god.sql': {'pay_month': \"'2025-04-01'\"},\n",
       " 'D:\\\\我的坚果云\\\\work\\\\Sincetimes_DOW\\\\9999-99-99 DOW 周报 3.0\\\\sqls\\\\sql25_act_party.sql': {'pay_month': \"'2025-04-01'\"},\n",
       " 'D:\\\\我的坚果云\\\\work\\\\Sincetimes_DOW\\\\9999-99-99 DOW 周报 3.0\\\\sqls\\\\sql26_act_party.sql': {'pay_month': \"'2025-04-01'\"},\n",
       " 'D:\\\\我的坚果云\\\\work\\\\Sincetimes_DOW\\\\9999-99-99 DOW 周报 3.0\\\\sqls\\\\sql27_act_party.sql': {'pay_month': \"'2025-04-01'\"},\n",
       " 'D:\\\\我的坚果云\\\\work\\\\Sincetimes_DOW\\\\9999-99-99 DOW 周报 3.0\\\\sqls\\\\sql34_act_soldier.sql': {'pay_month': \"'2025-04-01'\"},\n",
       " 'D:\\\\我的坚果云\\\\work\\\\Sincetimes_DOW\\\\9999-99-99 DOW 周报 3.0\\\\sqls\\\\sql35_act_soldier.sql': {'pay_month': \"'2025-04-01'\"}}"
      ]
     },
     "execution_count": 10,
     "metadata": {},
     "output_type": "execute_result"
    }
   ],
   "source": [
    "act_list = {}\n",
    "\n",
    "for item in file_list.items():\n",
    "    # print(item)\n",
    "    file_name, file_path = item\n",
    "    file_name, file_type = os.path.splitext(os.path.basename(file_path))\n",
    "    # print(file_name, file_type)\n",
    "    act_name = file_name.split('_')[-1]\n",
    "    # print(act_name)\n",
    "    pay_month = act_select[act_select.code==act_name].paytag.values \n",
    "    # print(pay_month)\n",
    "    \n",
    "    if file_type == '.sql' and len(pay_month) == 1:\n",
    "        act_list[file_path] = {'pay_month': f\"'{pay_month[0]}'\"}\n",
    "        print(file_name, act_name)\n",
    "    \n",
    "act_list"
   ]
  },
  {
   "cell_type": "code",
   "execution_count": 11,
   "id": "ce2f8547-8091-42c4-9475-78bd968981f3",
   "metadata": {},
   "outputs": [
    {
     "name": "stderr",
     "output_type": "stream",
     "text": [
      "2025-05-26 14:50:32.494 - MainThread - pydbapi.sql.fileparse - \u001b[33mWARNING\u001b[0m - fileparse.py - 118 - \u001b[33m【Final Arguments】【sql01_act_turn】 Use arguments {'today': \"'2025-05-26'\", 'now': \"'2025-05-26 14:50:32'\", 'pay_month': \"'2025-04-01'\"}\u001b[0m\n"
     ]
    },
    {
     "name": "stdout",
     "output_type": "stream",
     "text": [
      "start D:\\我的坚果云\\work\\Sincetimes_DOW\\9999-99-99 DOW 周报 3.0\\sqls\\sql01_act_turn.sql\n",
      "D:\\我的坚果云\\work\\Sincetimes_DOW\\9999-99-99 DOW 周报 3.0\\ sql01_act_turn\n"
     ]
    },
    {
     "name": "stderr",
     "output_type": "stream",
     "text": [
      "2025-05-26 14:50:32.732 - MainThread - pydbapi.db.fileexec - \u001b[32mINFO\u001b[0m - fileexec.py - 41 - \u001b[32m>>> START 【001】sql01_act_turn\u001b[0m\n",
      "2025-05-26 14:51:00.380 - MainThread - pydbapi.db.fileexec - \u001b[32mINFO\u001b[0m - fileexec.py - 54 - \u001b[32m==================End Job 【sql01_act_turn】, cost 27.90 seconds==================\u001b[0m\n",
      "2025-05-26 14:51:00.382 - MainThread - pydbapi.sql.fileparse - \u001b[33mWARNING\u001b[0m - fileparse.py - 118 - \u001b[33m【Final Arguments】【sql01_act_turn】 Use arguments {'today': \"'2025-05-26'\", 'now': \"'2025-05-26 14:51:00'\", 'pay_month': \"'2025-04-01'\"}\u001b[0m\n"
     ]
    },
    {
     "name": "stdout",
     "output_type": "stream",
     "text": [
      "{'【001】sql01_act_turn': [146844 rows]date,act_tag,role_id...}\n",
      "({'today': \"'2025-05-26'\", 'now': \"'2025-05-26 14:51:00'\", 'pay_month': \"'2025-04-01'\"}, {'【001】sql01_act_turn': SqlStatements([stmt:1]SqlStatement(<with>daily_info), ...)})\n"
     ]
    },
    {
     "name": "stderr",
     "output_type": "stream",
     "text": [
      "2025-05-26 14:51:02.863 - MainThread - pydbapi.sql.fileparse - \u001b[33mWARNING\u001b[0m - fileparse.py - 118 - \u001b[33m【Final Arguments】【sql02_act_turn】 Use arguments {'today': \"'2025-05-26'\", 'now': \"'2025-05-26 14:51:02'\", 'pay_month': \"'2025-04-01'\"}\u001b[0m\n",
      "2025-05-26 14:51:03.018 - MainThread - pydbapi.db.fileexec - \u001b[32mINFO\u001b[0m - fileexec.py - 41 - \u001b[32m>>> START 【001】sql02_act_turn\u001b[0m\n"
     ]
    },
    {
     "name": "stdout",
     "output_type": "stream",
     "text": [
      "[146844 rows]date,act_tag,role_id...\n",
      "end D:\\我的坚果云\\work\\Sincetimes_DOW\\9999-99-99 DOW 周报 3.0\\sqls\\sql01_act_turn.sql\n",
      "start D:\\我的坚果云\\work\\Sincetimes_DOW\\9999-99-99 DOW 周报 3.0\\sqls\\sql02_act_turn.sql\n",
      "D:\\我的坚果云\\work\\Sincetimes_DOW\\9999-99-99 DOW 周报 3.0\\ sql02_act_turn\n"
     ]
    },
    {
     "name": "stderr",
     "output_type": "stream",
     "text": [
      "2025-05-26 14:51:12.685 - MainThread - pydbapi.db.fileexec - \u001b[32mINFO\u001b[0m - fileexec.py - 54 - \u001b[32m==================End Job 【sql02_act_turn】, cost 9.83 seconds===================\u001b[0m\n",
      "2025-05-26 14:51:12.686 - MainThread - pydbapi.sql.fileparse - \u001b[33mWARNING\u001b[0m - fileparse.py - 118 - \u001b[33m【Final Arguments】【sql02_act_turn】 Use arguments {'today': \"'2025-05-26'\", 'now': \"'2025-05-26 14:51:12'\", 'pay_month': \"'2025-04-01'\"}\u001b[0m\n",
      "2025-05-26 14:51:12.859 - MainThread - pydbapi.sql.fileparse - \u001b[33mWARNING\u001b[0m - fileparse.py - 118 - \u001b[33m【Final Arguments】【sql03_act_turn】 Use arguments {'today': \"'2025-05-26'\", 'now': \"'2025-05-26 14:51:12'\", 'pay_month': \"'2025-04-01'\"}\u001b[0m\n"
     ]
    },
    {
     "name": "stdout",
     "output_type": "stream",
     "text": [
      "{'【001】sql02_act_turn': [5205 rows]act_tag,pay_tag,type...}\n",
      "({'today': \"'2025-05-26'\", 'now': \"'2025-05-26 14:51:12'\", 'pay_month': \"'2025-04-01'\"}, {'【001】sql02_act_turn': SqlStatements([stmt:1]SqlStatement(<with>event_union), ...)})\n",
      "[5205 rows]act_tag,pay_tag,type...\n",
      "end D:\\我的坚果云\\work\\Sincetimes_DOW\\9999-99-99 DOW 周报 3.0\\sqls\\sql02_act_turn.sql\n",
      "start D:\\我的坚果云\\work\\Sincetimes_DOW\\9999-99-99 DOW 周报 3.0\\sqls\\sql03_act_turn.sql\n",
      "D:\\我的坚果云\\work\\Sincetimes_DOW\\9999-99-99 DOW 周报 3.0\\ sql03_act_turn\n"
     ]
    },
    {
     "name": "stderr",
     "output_type": "stream",
     "text": [
      "2025-05-26 14:51:13.047 - MainThread - pydbapi.db.fileexec - \u001b[32mINFO\u001b[0m - fileexec.py - 41 - \u001b[32m>>> START 【001】sql03_act_turn\u001b[0m\n",
      "2025-05-26 14:51:37.801 - MainThread - pydbapi.db.fileexec - \u001b[32mINFO\u001b[0m - fileexec.py - 54 - \u001b[32m==================End Job 【sql03_act_turn】, cost 24.95 seconds==================\u001b[0m\n",
      "2025-05-26 14:51:37.803 - MainThread - pydbapi.sql.fileparse - \u001b[33mWARNING\u001b[0m - fileparse.py - 118 - \u001b[33m【Final Arguments】【sql03_act_turn】 Use arguments {'today': \"'2025-05-26'\", 'now': \"'2025-05-26 14:51:37'\", 'pay_month': \"'2025-04-01'\"}\u001b[0m\n"
     ]
    },
    {
     "name": "stdout",
     "output_type": "stream",
     "text": [
      "{'【001】sql03_act_turn': [495968 rows]act_tag,act_id,pay_tag...}\n",
      "({'today': \"'2025-05-26'\", 'now': \"'2025-05-26 14:51:37'\", 'pay_month': \"'2025-04-01'\"}, {'【001】sql03_act_turn': SqlStatements([stmt:1]SqlStatement(<with>superturntablechoice_agg), ...)})\n"
     ]
    },
    {
     "name": "stderr",
     "output_type": "stream",
     "text": [
      "2025-05-26 14:51:40.548 - MainThread - pydbapi.sql.fileparse - \u001b[33mWARNING\u001b[0m - fileparse.py - 118 - \u001b[33m【Final Arguments】【sql21_act_god】 Use arguments {'today': \"'2025-05-26'\", 'now': \"'2025-05-26 14:51:40'\", 'pay_month': \"'2025-04-01'\"}\u001b[0m\n"
     ]
    },
    {
     "name": "stdout",
     "output_type": "stream",
     "text": [
      "[495968 rows]act_tag,act_id,pay_tag...\n",
      "end D:\\我的坚果云\\work\\Sincetimes_DOW\\9999-99-99 DOW 周报 3.0\\sqls\\sql03_act_turn.sql\n",
      "start D:\\我的坚果云\\work\\Sincetimes_DOW\\9999-99-99 DOW 周报 3.0\\sqls\\sql21_act_god.sql\n",
      "D:\\我的坚果云\\work\\Sincetimes_DOW\\9999-99-99 DOW 周报 3.0\\ sql21_act_god\n"
     ]
    },
    {
     "name": "stderr",
     "output_type": "stream",
     "text": [
      "2025-05-26 14:51:40.724 - MainThread - pydbapi.db.fileexec - \u001b[32mINFO\u001b[0m - fileexec.py - 41 - \u001b[32m>>> START 【001】sql21_act_god\u001b[0m\n",
      "2025-05-26 14:52:07.268 - MainThread - pydbapi.db.fileexec - \u001b[32mINFO\u001b[0m - fileexec.py - 54 - \u001b[32m==================End Job 【sql21_act_god】, cost 26.73 seconds===================\u001b[0m\n",
      "2025-05-26 14:52:07.269 - MainThread - pydbapi.sql.fileparse - \u001b[33mWARNING\u001b[0m - fileparse.py - 118 - \u001b[33m【Final Arguments】【sql21_act_god】 Use arguments {'today': \"'2025-05-26'\", 'now': \"'2025-05-26 14:52:07'\", 'pay_month': \"'2025-04-01'\"}\u001b[0m\n"
     ]
    },
    {
     "name": "stdout",
     "output_type": "stream",
     "text": [
      "{'【001】sql21_act_god': [116551 rows]date,act_tag,role_id...}\n",
      "({'today': \"'2025-05-26'\", 'now': \"'2025-05-26 14:52:07'\", 'pay_month': \"'2025-04-01'\"}, {'【001】sql21_act_god': SqlStatements([stmt:1]SqlStatement(<with>daily_info::corechange_agg as( select part_date, date(part_date) as date, role_id,  sum(coalesce(free_num, 0) + coalesce(paid_num, 0)) as core_cost_316 from hive.dow_jpnew_r.dwd_gserver_corechange_live where part_date >= date_format(date_add('month', -6, current_date), '%Y-%m-%d') and reason = '316' and event_type = 'cost' group by 1, 2, 3 ),   summon_agg as( select part_date, date(part_date) as date, role_id,  sum(count) as summon_count from hive.dow_jpnew_r.dwd_gserver_recruitcard_live where part_date >= date_format(date_add('month', -6, current_date), '%Y-%m-%d') and recruitid = 20701 group by 1, 2, 3 ),), ...)})\n"
     ]
    },
    {
     "name": "stderr",
     "output_type": "stream",
     "text": [
      "2025-05-26 14:52:08.632 - MainThread - pydbapi.sql.fileparse - \u001b[33mWARNING\u001b[0m - fileparse.py - 118 - \u001b[33m【Final Arguments】【sql22_act_god】 Use arguments {'today': \"'2025-05-26'\", 'now': \"'2025-05-26 14:52:08'\", 'pay_month': \"'2025-04-01'\"}\u001b[0m\n",
      "2025-05-26 14:52:08.740 - MainThread - pydbapi.db.fileexec - \u001b[32mINFO\u001b[0m - fileexec.py - 41 - \u001b[32m>>> START 【001】sql22_act_god\u001b[0m\n"
     ]
    },
    {
     "name": "stdout",
     "output_type": "stream",
     "text": [
      "[116551 rows]date,act_tag,role_id...\n",
      "end D:\\我的坚果云\\work\\Sincetimes_DOW\\9999-99-99 DOW 周报 3.0\\sqls\\sql21_act_god.sql\n",
      "start D:\\我的坚果云\\work\\Sincetimes_DOW\\9999-99-99 DOW 周报 3.0\\sqls\\sql22_act_god.sql\n",
      "D:\\我的坚果云\\work\\Sincetimes_DOW\\9999-99-99 DOW 周报 3.0\\ sql22_act_god\n"
     ]
    },
    {
     "name": "stderr",
     "output_type": "stream",
     "text": [
      "2025-05-26 14:52:18.432 - MainThread - pydbapi.db.fileexec - \u001b[32mINFO\u001b[0m - fileexec.py - 54 - \u001b[32m===================End Job 【sql22_act_god】, cost 9.81 seconds===================\u001b[0m\n",
      "2025-05-26 14:52:18.433 - MainThread - pydbapi.sql.fileparse - \u001b[33mWARNING\u001b[0m - fileparse.py - 118 - \u001b[33m【Final Arguments】【sql22_act_god】 Use arguments {'today': \"'2025-05-26'\", 'now': \"'2025-05-26 14:52:18'\", 'pay_month': \"'2025-04-01'\"}\u001b[0m\n",
      "2025-05-26 14:52:18.556 - MainThread - pydbapi.sql.fileparse - \u001b[33mWARNING\u001b[0m - fileparse.py - 118 - \u001b[33m【Final Arguments】【sql25_act_party】 Use arguments {'today': \"'2025-05-26'\", 'now': \"'2025-05-26 14:52:18'\", 'pay_month': \"'2025-04-01'\"}\u001b[0m\n"
     ]
    },
    {
     "name": "stdout",
     "output_type": "stream",
     "text": [
      "{'【001】sql22_act_god': [1680 rows]act_tag,pay_tag,type...}\n",
      "({'today': \"'2025-05-26'\", 'now': \"'2025-05-26 14:52:18'\", 'pay_month': \"'2025-04-01'\"}, {'【001】sql22_act_god': SqlStatements([stmt:1]SqlStatement(<with>event_union), ...)})\n",
      "[1680 rows]act_tag,pay_tag,type...\n",
      "end D:\\我的坚果云\\work\\Sincetimes_DOW\\9999-99-99 DOW 周报 3.0\\sqls\\sql22_act_god.sql\n",
      "start D:\\我的坚果云\\work\\Sincetimes_DOW\\9999-99-99 DOW 周报 3.0\\sqls\\sql25_act_party.sql\n",
      "D:\\我的坚果云\\work\\Sincetimes_DOW\\9999-99-99 DOW 周报 3.0\\ sql25_act_party\n"
     ]
    },
    {
     "name": "stderr",
     "output_type": "stream",
     "text": [
      "2025-05-26 14:52:18.717 - MainThread - pydbapi.db.fileexec - \u001b[32mINFO\u001b[0m - fileexec.py - 41 - \u001b[32m>>> START 【001】sql25_act_party\u001b[0m\n",
      "2025-05-26 14:52:48.095 - MainThread - pydbapi.db.fileexec - \u001b[32mINFO\u001b[0m - fileexec.py - 54 - \u001b[32m=================End Job 【sql25_act_party】, cost 29.55 seconds==================\u001b[0m\n",
      "2025-05-26 14:52:48.097 - MainThread - pydbapi.sql.fileparse - \u001b[33mWARNING\u001b[0m - fileparse.py - 118 - \u001b[33m【Final Arguments】【sql25_act_party】 Use arguments {'today': \"'2025-05-26'\", 'now': \"'2025-05-26 14:52:48'\", 'pay_month': \"'2025-04-01'\"}\u001b[0m\n"
     ]
    },
    {
     "name": "stdout",
     "output_type": "stream",
     "text": [
      "{'【001】sql25_act_party': [82120 rows]date,act_tag,role_id...}\n",
      "({'today': \"'2025-05-26'\", 'now': \"'2025-05-26 14:52:48'\", 'pay_month': \"'2025-04-01'\"}, {'【001】sql25_act_party': SqlStatements([stmt:1]SqlStatement(<with>daily_info::corechange_agg as( select part_date, date(part_date) as date, role_id,  sum(coalesce(free_num, 0) + coalesce(paid_num, 0)) as core_cost_316 from hive.dow_jpnew_r.dwd_gserver_corechange_live where part_date >= date_format(date_add('month', -6, current_date), '%Y-%m-%d') and reason = '316' and event_type = 'cost' group by 1, 2, 3 ),), ...)})\n"
     ]
    },
    {
     "name": "stderr",
     "output_type": "stream",
     "text": [
      "2025-05-26 14:52:49.179 - MainThread - pydbapi.sql.fileparse - \u001b[33mWARNING\u001b[0m - fileparse.py - 118 - \u001b[33m【Final Arguments】【sql26_act_party】 Use arguments {'today': \"'2025-05-26'\", 'now': \"'2025-05-26 14:52:49'\", 'pay_month': \"'2025-04-01'\"}\u001b[0m\n"
     ]
    },
    {
     "name": "stdout",
     "output_type": "stream",
     "text": [
      "[82120 rows]date,act_tag,role_id...\n",
      "end D:\\我的坚果云\\work\\Sincetimes_DOW\\9999-99-99 DOW 周报 3.0\\sqls\\sql25_act_party.sql\n",
      "start D:\\我的坚果云\\work\\Sincetimes_DOW\\9999-99-99 DOW 周报 3.0\\sqls\\sql26_act_party.sql\n",
      "D:\\我的坚果云\\work\\Sincetimes_DOW\\9999-99-99 DOW 周报 3.0\\ sql26_act_party\n"
     ]
    },
    {
     "name": "stderr",
     "output_type": "stream",
     "text": [
      "2025-05-26 14:52:49.410 - MainThread - pydbapi.db.fileexec - \u001b[32mINFO\u001b[0m - fileexec.py - 41 - \u001b[32m>>> START 【001】sql26_act_party\u001b[0m\n",
      "2025-05-26 14:53:01.138 - MainThread - pydbapi.db.fileexec - \u001b[32mINFO\u001b[0m - fileexec.py - 54 - \u001b[32m=================End Job 【sql26_act_party】, cost 11.97 seconds==================\u001b[0m\n",
      "2025-05-26 14:53:01.140 - MainThread - pydbapi.sql.fileparse - \u001b[33mWARNING\u001b[0m - fileparse.py - 118 - \u001b[33m【Final Arguments】【sql26_act_party】 Use arguments {'today': \"'2025-05-26'\", 'now': \"'2025-05-26 14:53:01'\", 'pay_month': \"'2025-04-01'\"}\u001b[0m\n"
     ]
    },
    {
     "name": "stdout",
     "output_type": "stream",
     "text": [
      "{'【001】sql26_act_party': [2345 rows]act_tag,pay_tag,type...}\n"
     ]
    },
    {
     "name": "stderr",
     "output_type": "stream",
     "text": [
      "2025-05-26 14:53:01.394 - MainThread - pydbapi.sql.fileparse - \u001b[33mWARNING\u001b[0m - fileparse.py - 118 - \u001b[33m【Final Arguments】【sql27_act_party】 Use arguments {'today': \"'2025-05-26'\", 'now': \"'2025-05-26 14:53:01'\", 'pay_month': \"'2025-04-01'\"}\u001b[0m\n"
     ]
    },
    {
     "name": "stdout",
     "output_type": "stream",
     "text": [
      "({'today': \"'2025-05-26'\", 'now': \"'2025-05-26 14:53:01'\", 'pay_month': \"'2025-04-01'\"}, {'【001】sql26_act_party': SqlStatements([stmt:1]SqlStatement(<with>event_union), ...)})\n",
      "[2345 rows]act_tag,pay_tag,type...\n",
      "end D:\\我的坚果云\\work\\Sincetimes_DOW\\9999-99-99 DOW 周报 3.0\\sqls\\sql26_act_party.sql\n",
      "start D:\\我的坚果云\\work\\Sincetimes_DOW\\9999-99-99 DOW 周报 3.0\\sqls\\sql27_act_party.sql\n",
      "D:\\我的坚果云\\work\\Sincetimes_DOW\\9999-99-99 DOW 周报 3.0\\ sql27_act_party\n"
     ]
    },
    {
     "name": "stderr",
     "output_type": "stream",
     "text": [
      "2025-05-26 14:53:01.629 - MainThread - pydbapi.db.fileexec - \u001b[32mINFO\u001b[0m - fileexec.py - 41 - \u001b[32m>>> START 【001】sql27_act_party\u001b[0m\n",
      "2025-05-26 14:53:19.279 - MainThread - pydbapi.db.fileexec - \u001b[32mINFO\u001b[0m - fileexec.py - 54 - \u001b[32m=================End Job 【sql27_act_party】, cost 17.90 seconds==================\u001b[0m\n",
      "2025-05-26 14:53:19.282 - MainThread - pydbapi.sql.fileparse - \u001b[33mWARNING\u001b[0m - fileparse.py - 118 - \u001b[33m【Final Arguments】【sql27_act_party】 Use arguments {'today': \"'2025-05-26'\", 'now': \"'2025-05-26 14:53:19'\", 'pay_month': \"'2025-04-01'\"}\u001b[0m\n"
     ]
    },
    {
     "name": "stdout",
     "output_type": "stream",
     "text": [
      "{'【001】sql27_act_party': [400214 rows]act_tag,act_id,pay_tag...}\n",
      "({'today': \"'2025-05-26'\", 'now': \"'2025-05-26 14:53:19'\", 'pay_month': \"'2025-04-01'\"}, {'【001】sql27_act_party': SqlStatements([stmt:1]SqlStatement(<with>superturntablechoice_agg), ...)})\n"
     ]
    },
    {
     "name": "stderr",
     "output_type": "stream",
     "text": [
      "2025-05-26 14:53:21.055 - MainThread - pydbapi.sql.fileparse - \u001b[33mWARNING\u001b[0m - fileparse.py - 118 - \u001b[33m【Final Arguments】【sql34_act_soldier】 Use arguments {'today': \"'2025-05-26'\", 'now': \"'2025-05-26 14:53:21'\", 'pay_month': \"'2025-04-01'\"}\u001b[0m\n",
      "2025-05-26 14:53:21.190 - MainThread - pydbapi.db.fileexec - \u001b[32mINFO\u001b[0m - fileexec.py - 41 - \u001b[32m>>> START 【001】sql34_act_soldier\u001b[0m\n"
     ]
    },
    {
     "name": "stdout",
     "output_type": "stream",
     "text": [
      "[400214 rows]act_tag,act_id,pay_tag...\n",
      "end D:\\我的坚果云\\work\\Sincetimes_DOW\\9999-99-99 DOW 周报 3.0\\sqls\\sql27_act_party.sql\n",
      "start D:\\我的坚果云\\work\\Sincetimes_DOW\\9999-99-99 DOW 周报 3.0\\sqls\\sql34_act_soldier.sql\n",
      "D:\\我的坚果云\\work\\Sincetimes_DOW\\9999-99-99 DOW 周报 3.0\\ sql34_act_soldier\n"
     ]
    },
    {
     "name": "stderr",
     "output_type": "stream",
     "text": [
      "2025-05-26 14:53:42.152 - MainThread - pydbapi.db.fileexec - \u001b[32mINFO\u001b[0m - fileexec.py - 54 - \u001b[32m================End Job 【sql34_act_soldier】, cost 21.11 seconds=================\u001b[0m\n",
      "2025-05-26 14:53:42.153 - MainThread - pydbapi.sql.fileparse - \u001b[33mWARNING\u001b[0m - fileparse.py - 118 - \u001b[33m【Final Arguments】【sql34_act_soldier】 Use arguments {'today': \"'2025-05-26'\", 'now': \"'2025-05-26 14:53:42'\", 'pay_month': \"'2025-04-01'\"}\u001b[0m\n"
     ]
    },
    {
     "name": "stdout",
     "output_type": "stream",
     "text": [
      "{'【001】sql34_act_soldier': [118218 rows]date,act_tag,role_id...}\n",
      "({'today': \"'2025-05-26'\", 'now': \"'2025-05-26 14:53:42'\", 'pay_month': \"'2025-04-01'\"}, {'【001】sql34_act_soldier': SqlStatements([stmt:1]SqlStatement(<with>daily_info::summon_agg as( select part_date, date(part_date) as date, role_id,  sum(count) as summon_count from hive.dow_jpnew_r.dwd_gserver_recruitcard_live where part_date >= date_format(date_add('month', -6, current_date), '%Y-%m-%d') and recruitid = 19303 group by 1, 2, 3 ),), ...)})\n"
     ]
    },
    {
     "name": "stderr",
     "output_type": "stream",
     "text": [
      "2025-05-26 14:53:43.640 - MainThread - pydbapi.sql.fileparse - \u001b[33mWARNING\u001b[0m - fileparse.py - 118 - \u001b[33m【Final Arguments】【sql35_act_soldier】 Use arguments {'today': \"'2025-05-26'\", 'now': \"'2025-05-26 14:53:43'\", 'pay_month': \"'2025-04-01'\"}\u001b[0m\n",
      "2025-05-26 14:53:43.774 - MainThread - pydbapi.db.fileexec - \u001b[32mINFO\u001b[0m - fileexec.py - 41 - \u001b[32m>>> START 【001】sql35_act_soldier\u001b[0m\n"
     ]
    },
    {
     "name": "stdout",
     "output_type": "stream",
     "text": [
      "[118218 rows]date,act_tag,role_id...\n",
      "end D:\\我的坚果云\\work\\Sincetimes_DOW\\9999-99-99 DOW 周报 3.0\\sqls\\sql34_act_soldier.sql\n",
      "start D:\\我的坚果云\\work\\Sincetimes_DOW\\9999-99-99 DOW 周报 3.0\\sqls\\sql35_act_soldier.sql\n",
      "D:\\我的坚果云\\work\\Sincetimes_DOW\\9999-99-99 DOW 周报 3.0\\ sql35_act_soldier\n"
     ]
    },
    {
     "name": "stderr",
     "output_type": "stream",
     "text": [
      "2025-05-26 14:53:50.200 - MainThread - pydbapi.db.fileexec - \u001b[32mINFO\u001b[0m - fileexec.py - 54 - \u001b[32m=================End Job 【sql35_act_soldier】, cost 6.57 seconds=================\u001b[0m\n",
      "2025-05-26 14:53:50.202 - MainThread - pydbapi.sql.fileparse - \u001b[33mWARNING\u001b[0m - fileparse.py - 118 - \u001b[33m【Final Arguments】【sql35_act_soldier】 Use arguments {'today': \"'2025-05-26'\", 'now': \"'2025-05-26 14:53:50'\", 'pay_month': \"'2025-04-01'\"}\u001b[0m\n"
     ]
    },
    {
     "name": "stdout",
     "output_type": "stream",
     "text": [
      "{'【001】sql35_act_soldier': [2537 rows]act_tag,pay_tag,type...}\n",
      "({'today': \"'2025-05-26'\", 'now': \"'2025-05-26 14:53:50'\", 'pay_month': \"'2025-04-01'\"}, {'【001】sql35_act_soldier': SqlStatements([stmt:1]SqlStatement(<with>event_union), ...)})\n",
      "[2537 rows]act_tag,pay_tag,type...\n",
      "end D:\\我的坚果云\\work\\Sincetimes_DOW\\9999-99-99 DOW 周报 3.0\\sqls\\sql35_act_soldier.sql\n"
     ]
    }
   ],
   "source": [
    "for path, para in act_list.items():    \n",
    "    # path = path\n",
    "    # **para = para\n",
    "    # start_date = para.get('start_date')\n",
    "    # end_date = para.get('end_date')\n",
    "    # print(para)\n",
    "    \n",
    "    print(f'start {path}')\n",
    "    get_data(db, path, **para)\n",
    "    print(f'end {path}')"
   ]
  },
  {
   "cell_type": "code",
   "execution_count": null,
   "id": "868f932a-e968-4ed1-bd71-6ef884c517d9",
   "metadata": {},
   "outputs": [],
   "source": []
  },
  {
   "cell_type": "code",
   "execution_count": null,
   "id": "eef9d588-7d62-4d42-9f31-25fb10ea41ef",
   "metadata": {},
   "outputs": [],
   "source": []
  }
 ],
 "metadata": {
  "kernelspec": {
   "display_name": "Python 3 (ipykernel)",
   "language": "python",
   "name": "python3"
  },
  "language_info": {
   "codemirror_mode": {
    "name": "ipython",
    "version": 3
   },
   "file_extension": ".py",
   "mimetype": "text/x-python",
   "name": "python",
   "nbconvert_exporter": "python",
   "pygments_lexer": "ipython3",
   "version": "3.10.16"
  },
  "toc": {
   "base_numbering": 1,
   "nav_menu": {},
   "number_sections": true,
   "sideBar": true,
   "skip_h1_title": false,
   "title_cell": "Table of Contents",
   "title_sidebar": "Contents",
   "toc_cell": false,
   "toc_position": {},
   "toc_section_display": true,
   "toc_window_display": false
  },
  "varInspector": {
   "cols": {
    "lenName": 16,
    "lenType": 16,
    "lenVar": 40
   },
   "kernels_config": {
    "python": {
     "delete_cmd_postfix": "",
     "delete_cmd_prefix": "del ",
     "library": "var_list.py",
     "varRefreshCmd": "print(var_dic_list())"
    },
    "r": {
     "delete_cmd_postfix": ") ",
     "delete_cmd_prefix": "rm(",
     "library": "var_list.r",
     "varRefreshCmd": "cat(var_dic_list()) "
    }
   },
   "types_to_exclude": [
    "module",
    "function",
    "builtin_function_or_method",
    "instance",
    "_Feature"
   ],
   "window_display": false
  }
 },
 "nbformat": 4,
 "nbformat_minor": 5
}
